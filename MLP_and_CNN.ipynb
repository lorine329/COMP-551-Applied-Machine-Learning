{
  "nbformat": 4,
  "nbformat_minor": 0,
  "metadata": {
    "colab": {
      "provenance": [],
      "toc_visible": true,
      "collapsed_sections": [
        "N26M73DAUyjE",
        "5WMnC3ftUyjG",
        "8gGQbu8RsN0X",
        "23P4Oo8IsSs3",
        "eNqkriT5O9xG",
        "3aTFfJEdPTAq",
        "qjF7x6sgPYu2",
        "ZBkFpNZzvvqV"
      ]
    },
    "kernelspec": {
      "name": "python3",
      "display_name": "Python 3"
    },
    "language_info": {
      "name": "python"
    },
    "gpuClass": "standard"
  },
  "cells": [
    {
      "cell_type": "markdown",
      "source": [
        "# Import packages"
      ],
      "metadata": {
        "id": "N26M73DAUyjE"
      }
    },
    {
      "cell_type": "code",
      "execution_count": null,
      "metadata": {
        "id": "gRjTZYQkUyjF"
      },
      "outputs": [],
      "source": [
        "import numpy as np\n",
        "import matplotlib.pyplot as plt\n",
        "from PIL import Image as im\n",
        "from typing import List\n",
        "from tqdm import tqdm\n",
        "import tensorflow as tf\n",
        "import random\n",
        "from tabulate import tabulate\n",
        "from tensorflow import keras\n",
        "\n",
        "# import warnings\n",
        "# warnings.filterwarnings('ignore')\n",
        "random.seed(10)\n",
        "np.random.seed(10)"
      ]
    },
    {
      "cell_type": "code",
      "source": [
        "from google.colab import drive\n",
        "drive.mount('/content/gdrive')"
      ],
      "metadata": {
        "colab": {
          "base_uri": "https://localhost:8080/"
        },
        "outputId": "fa0bbad4-5afb-46e9-ffea-02edd8bdc9d8",
        "id": "5CFPY6guUyjF"
      },
      "execution_count": null,
      "outputs": [
        {
          "output_type": "stream",
          "name": "stdout",
          "text": [
            "Drive already mounted at /content/gdrive; to attempt to forcibly remount, call drive.mount(\"/content/gdrive\", force_remount=True).\n"
          ]
        }
      ]
    },
    {
      "cell_type": "markdown",
      "source": [
        "# Task 1: Acquire the data"
      ],
      "metadata": {
        "id": "5WMnC3ftUyjG"
      }
    },
    {
      "cell_type": "code",
      "source": [
        "def load_mnist(path, kind='train'):\n",
        "    import os\n",
        "    import gzip\n",
        "    import numpy as np\n",
        "\n",
        "    \"\"\"Load MNIST data from `path`\"\"\"\n",
        "    labels_path = os.path.join(path,\n",
        "                               '%s-labels-idx1-ubyte.gz'\n",
        "                               % kind)\n",
        "    images_path = os.path.join(path,\n",
        "                               '%s-images-idx3-ubyte.gz'\n",
        "                               % kind)\n",
        "\n",
        "    with gzip.open(labels_path, 'rb') as lbpath:\n",
        "        labels = np.frombuffer(lbpath.read(), dtype=np.uint8,\n",
        "                               offset=8)\n",
        "\n",
        "    with gzip.open(images_path, 'rb') as imgpath:\n",
        "        images = np.frombuffer(imgpath.read(), dtype=np.uint8,\n",
        "                               offset=16).reshape(len(labels), 784)\n",
        "\n",
        "    return images, labels"
      ],
      "metadata": {
        "id": "zdVICnfdUyjG"
      },
      "execution_count": null,
      "outputs": []
    },
    {
      "cell_type": "code",
      "source": [
        "X_train, y_train = load_mnist('/content/gdrive/My Drive/COMP 551/A3', kind='train')\n",
        "X_test, y_test = load_mnist('/content/gdrive/My Drive/COMP 551/A3', kind='t10k')"
      ],
      "metadata": {
        "id": "c5T9zrD-UyjG"
      },
      "execution_count": null,
      "outputs": []
    },
    {
      "cell_type": "markdown",
      "source": [
        "## Class distribution"
      ],
      "metadata": {
        "id": "5xU2ZbKJXsEU"
      }
    },
    {
      "cell_type": "code",
      "source": [
        "y_train_bin = np.bincount(y_train)\n",
        "print(y_train_bin)\n",
        "labels = np.arange(10)\n",
        "\n",
        "plt.bar(labels, y_train_bin)\n",
        "plt.show()"
      ],
      "metadata": {
        "id": "ba-P16n5nCTZ",
        "outputId": "a4e76122-fe6c-4905-e0a2-d254b3cb2ef8",
        "colab": {
          "base_uri": "https://localhost:8080/"
        }
      },
      "execution_count": null,
      "outputs": [
        {
          "output_type": "stream",
          "name": "stdout",
          "text": [
            "[6000 6000 6000 6000 6000 6000 6000 6000 6000 6000]\n"
          ]
        },
        {
          "output_type": "display_data",
          "data": {
            "text/plain": [
              "<Figure size 432x288 with 1 Axes>"
            ],
            "image/png": "[encoded data removed]"
          },
          "metadata": {
            "needs_background": "light"
          }
        }
      ]
    },
    {
      "cell_type": "code",
      "source": [
        "y_test_bin = np.bincount(y_test)\n",
        "print(y_test_bin)\n",
        "labels = np.arange(10)\n",
        "\n",
        "plt.bar(labels, y_test_bin)\n",
        "plt.show()"
      ],
      "metadata": {
        "colab": {
          "base_uri": "https://localhost:8080/"
        },
        "id": "-VVzUgsTXxfd",
        "outputId": "3b8036b7-1021-4df9-b6ca-8a4e58ee0755"
      },
      "execution_count": null,
      "outputs": [
        {
          "output_type": "stream",
          "name": "stdout",
          "text": [
            "[1000 1000 1000 1000 1000 1000 1000 1000 1000 1000]\n"
          ]
        },
        {
          "output_type": "display_data",
          "data": {
            "text/plain": [
              "<Figure size 432x288 with 1 Axes>"
            ],
            "image/png": "[encoded data removed]"
          },
          "metadata": {
            "needs_background": "light"
          }
        }
      ]
    },
    {
      "cell_type": "markdown",
      "source": [
        "## Normalization"
      ],
      "metadata": {
        "id": "5RZaUkUzUyjG"
      }
    },
    {
      "cell_type": "code",
      "source": [
        "image = X_train[0]\n",
        "image = np.reshape(image, (28, 28))\n",
        "plt.imshow(image)\n",
        "plt.show()"
      ],
      "metadata": {
        "colab": {
          "base_uri": "https://localhost:8080/"
        },
        "outputId": "5b45413a-e99e-4af6-f388-b67c21925a8c",
        "id": "01xsyLpsUyjH"
      },
      "execution_count": null,
      "outputs": [
        {
          "output_type": "display_data",
          "data": {
            "text/plain": [
              "<Figure size 432x288 with 1 Axes>"
            ],
            "image/png": "[encoded data removed]"
          },
          "metadata": {
            "needs_background": "light"
          }
        }
      ]
    },
    {
      "cell_type": "code",
      "source": [
        "data_x = X_train.reshape(60000,784).astype(np.float64)\n",
        "data_xt = X_test.reshape(10000,784).astype(np.float64)"
      ],
      "metadata": {
        "id": "Pjbrt2jCkMkk"
      },
      "execution_count": null,
      "outputs": []
    },
    {
      "cell_type": "code",
      "source": [
        "X_train_unnorm = data_x.copy()\n",
        "X_test_unnorm = data_xt.copy()\n",
        "#X_train_unnorm = np.array(X_train_unnorm, dtype=np.unit8)\n",
        "#X_test_unnorm = np.array(X_test_unnorm, dtype=np.uint8)\n",
        "# X_train_unnorm -= np.mean(X_train_unnorm, axis = 0)\n",
        "# X_test_unnorm -= np.mean(X_test_unnorm, axis = 0)"
      ],
      "metadata": {
        "id": "wOBPgqIOuCbK"
      },
      "execution_count": null,
      "outputs": []
    },
    {
      "cell_type": "code",
      "source": [
        "data_x -= np.mean(data_x, axis = 0)\n",
        "data_x /= 255\n",
        "data_xt -= np.mean(data_xt, axis = 0)\n",
        "data_xt /= 255\n",
        "X_train = np.array(data_x, dtype=np.float128)\n",
        "X_test = np.array(data_xt, dtype=np.float128)"
      ],
      "metadata": {
        "id": "b1HBoPwGuEEd"
      },
      "execution_count": null,
      "outputs": []
    },
    {
      "cell_type": "code",
      "source": [
        "image = X_train[0]\n",
        "image = np.reshape(image, (28, 28))\n",
        "plt.imshow(image)\n",
        "plt.show()"
      ],
      "metadata": {
        "colab": {
          "base_uri": "https://localhost:8080/"
        },
        "outputId": "b88194eb-afb5-4d23-e1eb-250067ef65ba",
        "id": "TTA9AHxlUyjH"
      },
      "execution_count": null,
      "outputs": [
        {
          "output_type": "display_data",
          "data": {
            "text/plain": [
              "<Figure size 432x288 with 1 Axes>"
            ],
            "image/png": "[encoded data removed]"
          },
          "metadata": {
            "needs_background": "light"
          }
        }
      ]
    },
    {
      "cell_type": "code",
      "source": [
        "unnorm_image = X_train_unnorm[0]\n",
        "unnorm_image = np.reshape(unnorm_image, (28, 28))\n",
        "plt.imshow(unnorm_image)\n",
        "plt.show()"
      ],
      "metadata": {
        "colab": {
          "base_uri": "https://localhost:8080/"
        },
        "id": "8eCFP5EnuJal",
        "outputId": "eee58644-ffde-4af9-94b5-a50a067c8949"
      },
      "execution_count": null,
      "outputs": [
        {
          "output_type": "display_data",
          "data": {
            "text/plain": [
              "<Figure size 432x288 with 1 Axes>"
            ],
            "image/png": "[encoded data removed]"
          },
          "metadata": {
            "needs_background": "light"
          }
        }
      ]
    },
    {
      "cell_type": "markdown",
      "source": [
        "# Task 2: Implement an MLP to classify image data"
      ],
      "metadata": {
        "id": "ujUilgH_UyjH"
      }
    },
    {
      "cell_type": "code",
      "source": [
        "class NeuralNetLayer:\n",
        "    def __init__(self):\n",
        "        self.gradient = None\n",
        "        self.parameters = None\n",
        "        \n",
        "    def forward(self, x):\n",
        "        raise NotImplementedError\n",
        "\n",
        "    def backward(self, gradient):\n",
        "        raise NotImplementedError"
      ],
      "metadata": {
        "id": "1t2kQVWQUyjH"
      },
      "execution_count": null,
      "outputs": []
    },
    {
      "cell_type": "code",
      "source": [
        "class LinearLayer(NeuralNetLayer):\n",
        "    def __init__(self, input_size, output_size):\n",
        "        super().__init__()\n",
        "        self.ni = input_size\n",
        "        self.no = output_size\n",
        "        self.w = np.random.randn(output_size, input_size)\n",
        "        #self.w = w\n",
        "        self.b = np.random.randn(output_size)\n",
        "        #self.b = b\n",
        "        self.cur_input = None\n",
        "        self.parameters = [self.w, self.b]\n",
        "\n",
        "    def forward(self, x):\n",
        "        self.cur_input = x\n",
        "        return (self.w[None, :, :] @ x[:, :, None]).squeeze() + self.b\n",
        "\n",
        "    def backward(self, gradient):\n",
        "        assert self.cur_input is not None, \"Must call forward before backward\"\n",
        "        #dw = gradient.dot(self.cur_input)\n",
        "        dw = gradient[:, :, None] @ self.cur_input[:, None, :]\n",
        "        db = gradient\n",
        "        self.gradient = [dw, db]\n",
        "        return gradient.dot(self.w)"
      ],
      "metadata": {
        "id": "E2-U0B0p6gyz"
      },
      "execution_count": null,
      "outputs": []
    },
    {
      "cell_type": "code",
      "source": [
        "class ActivationLayer(NeuralNetLayer):\n",
        "    def __init__(self, activation_fn):\n",
        "        super().__init__()\n",
        "        self.activation_fn = activation_fn\n",
        "        \n",
        "    def forward(self, x):\n",
        "        if self.activation_fn == \"ReLU\":\n",
        "          self.gradient = np.where(x > 0, 1.0, 0.0)\n",
        "          return np.maximum(0, x)\n",
        "        if self.activation_fn == \"tanh\":\n",
        "          self.gradient = 1 - np.tanh(x) * np.tanh(x)\n",
        "          return np.tanh(x)\n",
        "        if self.activation_fn == \"Leaky_ReLU\":\n",
        "          self.gradient = np.where(x>0, 1, 0.01)\n",
        "          return np.maximum(x, 0) + 0.01*np.minimum(0,x)\n",
        "\n",
        "    def backward(self, gradient):\n",
        "        assert self.gradient is not None, \"Must call forward before backward\"\n",
        "        return gradient * self.gradient"
      ],
      "metadata": {
        "id": "AZ2hmoz7UyjI"
      },
      "execution_count": null,
      "outputs": []
    },
    {
      "cell_type": "code",
      "source": [
        "class SoftmaxOutputLayer(NeuralNetLayer):\n",
        "    def __init__(self):\n",
        "        super().__init__()\n",
        "        self.cur_probs = None\n",
        "\n",
        "    def forward(self, x):\n",
        "        A_safe = x - np.amax(x, axis=1).reshape(x.shape[0], 1)\n",
        "        #exps = np.exp(x)\n",
        "        exps = np.exp(A_safe)\n",
        "        probs = exps / np.sum(exps, axis=-1)[:, None]\n",
        "        self.cur_probs = probs\n",
        "        return probs\n",
        "\n",
        "    def backward(self, target):\n",
        "        assert self.cur_probs is not None, \"Must call forward before backward\"\n",
        "        return self.cur_probs - target"
      ],
      "metadata": {
        "id": "sb_dDpulUyjI"
      },
      "execution_count": null,
      "outputs": []
    },
    {
      "cell_type": "code",
      "source": [
        "class MLP:\n",
        "    #0,1\n",
        "    def __init__(self, activation_fn = \"ReLU\", num_hidden_layers = 1, \n",
        "                 num_hidden_units = [128], input_size = 784, output_size = 10):\n",
        "      self.activation_fn = activation_fn\n",
        "      self.num_hidden_layers = num_hidden_layers\n",
        "      self.num_hidden_units = num_hidden_units\n",
        "      self.input_size = input_size\n",
        "      self.output_size = output_size\n",
        "      np.random.seed(1)\n",
        "      layers = []\n",
        "      params = []\n",
        "      bias = []\n",
        "  \n",
        "      if self.num_hidden_layers == 0 :\n",
        "        # w = np.random.randn(self.output_size, self.input_size)\n",
        "        # b = np.random.randn(self.output_size)\n",
        "        l1 = LinearLayer(self.input_size, self.output_size)\n",
        "        layers.append(l1)\n",
        "        lo = SoftmaxOutputLayer()\n",
        "        layers.append(lo)\n",
        "        params.append(l1.w)\n",
        "        bias.append(l1.b)\n",
        "\n",
        "      elif self.num_hidden_layers == 1:\n",
        "         # w = np.random.randn(self.output_size, self.input_size)\n",
        "        # b = np.random.randn(self.output_size)\n",
        "        \n",
        "         l1 = LinearLayer(self.input_size, self.num_hidden_units[0])\n",
        "         layers.append(l1)\n",
        "         l1a = ActivationLayer(self.activation_fn)\n",
        "         layers.append(l1a)\n",
        "\n",
        "         lo = LinearLayer(self.num_hidden_units[0], self.output_size)\n",
        "         layers.append(lo)\n",
        "         loa = SoftmaxOutputLayer()\n",
        "         layers.append(loa)\n",
        "\n",
        "         params.append(l1.w)\n",
        "         params.append(lo.w)\n",
        "         bias.append(l1.b)\n",
        "         bias.append(lo.b)\n",
        "      \n",
        "      elif self.num_hidden_layers == 2:\n",
        "        # w = np.random.randn(self.output_size, self.input_size)\n",
        "        # b = np.random.randn(self.output_size)\n",
        "        \n",
        "        l1 = LinearLayer(self.input_size, self.num_hidden_units[0])\n",
        "        layers.append(l1)\n",
        "        l1a = ActivationLayer(self.activation_fn)\n",
        "        layers.append(l1a)\n",
        "\n",
        "        l2 = LinearLayer(self.num_hidden_units[0], self.num_hidden_units[1])\n",
        "        layers.append(l2)\n",
        "        l2a = ActivationLayer(self.activation_fn)\n",
        "        layers.append(l2a)\n",
        "\n",
        "        lo = LinearLayer(self.num_hidden_units[1], self.output_size)\n",
        "        layers.append(lo)\n",
        "        loa = SoftmaxOutputLayer()\n",
        "        layers.append(loa)\n",
        "\n",
        "        params.append(l1.w)\n",
        "        params.append(l2.w)\n",
        "        params.append(lo.w)\n",
        "        bias.append(l1.b)\n",
        "        bias.append(l2.b)\n",
        "        bias.append(lo.b)\n",
        "\n",
        "      elif self.num_hidden_layers == 3:\n",
        "        # w = np.random.randn(self.output_size, self.input_size)\n",
        "        # b = np.random.randn(self.output_size)\n",
        "        \n",
        "        l1 = LinearLayer(self.input_size, self.num_hidden_units[0])\n",
        "        layers.append(l1)\n",
        "        l1a = ActivationLayer(self.activation_fn)\n",
        "        layers.append(l1a)\n",
        "\n",
        "        l2 = LinearLayer(self.num_hidden_units[0], self.num_hidden_units[1])\n",
        "        layers.append(l2)\n",
        "        l2a = ActivationLayer(self.activation_fn)\n",
        "        layers.append(l2a)\n",
        "\n",
        "        l3 = LinearLayer(self.num_hidden_units[1], self.num_hidden_units[2])\n",
        "        layers.append(l3)\n",
        "        l3a = ActivationLayer(self.activation_fn)\n",
        "        layers.append(l3a)\n",
        "\n",
        "        lo = LinearLayer(self.num_hidden_units[2], self.output_size)\n",
        "        layers.append(lo)\n",
        "        loa = SoftmaxOutputLayer()\n",
        "        layers.append(loa)\n",
        "\n",
        "        params.append(l1.w)\n",
        "        params.append(l2.w)\n",
        "        params.append(l3.w)\n",
        "        params.append(lo.w)\n",
        "        bias.append(l1.b)\n",
        "        bias.append(l2.b)\n",
        "        bias.append(l3.b)\n",
        "        bias.append(lo.b)\n",
        "\n",
        "      elif self.num_hidden_layers == 4:\n",
        "        # w = np.random.randn(self.output_size, self.input_size)\n",
        "        # b = np.random.randn(self.output_size)\n",
        "        \n",
        "        l1 = LinearLayer(self.input_size, self.num_hidden_units[0])\n",
        "        layers.append(l1)\n",
        "        l1a = ActivationLayer(self.activation_fn)\n",
        "        layers.append(l1a)\n",
        "\n",
        "        l2 = LinearLayer(self.num_hidden_units[0], self.num_hidden_units[1])\n",
        "        layers.append(l2)\n",
        "        l2a = ActivationLayer(self.activation_fn)\n",
        "        layers.append(l2a)\n",
        "        \n",
        "        l3 = LinearLayer(self.num_hidden_units[1], self.num_hidden_units[2])\n",
        "        layers.append(l3)\n",
        "        l3a = ActivationLayer(self.activation_fn)\n",
        "        layers.append(l3a)\n",
        "\n",
        "        l4 = LinearLayer(self.num_hidden_units[2], self.num_hidden_units[3])\n",
        "        layers.append(l4)\n",
        "        l4a = ActivationLayer(self.activation_fn)\n",
        "        layers.append(l4a)\n",
        "\n",
        "        lo = LinearLayer(self.num_hidden_units[3], self.output_size)\n",
        "        layers.append(lo)\n",
        "        loa = SoftmaxOutputLayer()\n",
        "        layers.append(loa)\n",
        "\n",
        "        params.append(l1.w)\n",
        "        params.append(l2.w)\n",
        "        params.append(l3.w)\n",
        "        params.append(l2.w)\n",
        "        params.append(lo.w)\n",
        "        bias.append(l1.b)\n",
        "        bias.append(l2.b)\n",
        "        bias.append(l3.b)\n",
        "        bias.append(l4.b)\n",
        "        bias.append(lo.b)\n",
        "\n",
        "      self.layers = layers\n",
        "      self.weights = params\n",
        "      self.bias = bias\n",
        "\n",
        "    def forward(self, x):\n",
        "        for layer in self.layers:\n",
        "            x = layer.forward(x)\n",
        "        return x\n",
        "\n",
        "    def backward(self, target):\n",
        "        for layer in self.layers[::-1]:\n",
        "            target = layer.backward(target)\n",
        "    \n",
        "    def fit(self, optimizer, x, y, steps, batch_size, show_loss = False):\n",
        "      losses = []\n",
        "      labels = np.eye(10)[np.array(y)]\n",
        "\n",
        "      #n_samples = x.shape[0]\n",
        "      for _ in tqdm(range(steps)):\n",
        "        indices = np.random.choice(x.shape[0], batch_size)\n",
        "        batch_x = x[indices]\n",
        "        #batch_y = y[indices]\n",
        "        label = labels[indices]\n",
        "        predictions = self.forward(batch_x)\n",
        "        #print(predictions)\n",
        "        #loss = -(label * np.log(predictions+1e-9)).sum(axis=-1).mean()\n",
        "        loss = -(label * np.log(predictions+1e-9)).sum(axis=-1).mean()\n",
        "       # print(loss)\n",
        "        losses.append(loss)\n",
        "        #print(predictions.shape)\n",
        "        #print(label.shape)\n",
        "        #print(evaluate_acc(predictions,label))\n",
        "        #print(len(losses))\n",
        "        self.backward(label)\n",
        "        optimizer.step()\n",
        "      if show_loss is True:\n",
        "        plt.plot(losses)\n",
        "        plt.xlabel(\"Epoch\")\n",
        "        plt.ylabel(\"Cross entropy loss\")\n",
        "        self.losses = np.array(losses)\n",
        "      return self\n",
        "    \n",
        "    def plot_acc(self, optimizer, x_train, y_train, x_test, y_test, steps, batch_size):\n",
        "      test_accs = []\n",
        "      train_accs = []\n",
        "\n",
        "      for i in range(steps):\n",
        "        self.fit(optimizer, x_train, y_train, i+1, batch_size)\n",
        "        y_train_pred = self.predict(x_train)\n",
        "        y_test_pred = self.predict(x_test)\n",
        "        train_acc = self.evaluate_acc(y_train_pred, y_train)\n",
        "        test_acc = self.evaluate_acc(y_test_pred, y_test)\n",
        "        train_accs.append(train_acc)\n",
        "        test_accs.append(test_acc)\n",
        "\n",
        "      return train_accs, test_accs\n",
        "\n",
        "    def predict(self, x):\n",
        "      predictions = self.forward(x)\n",
        "      return np.argmax(predictions, axis = 1)\n",
        "      \n",
        "    def predict2(self, x):\n",
        "      predictions = self.forward(x)\n",
        "      return predictions\n",
        "\n",
        "    def check_gradient(self, x, y, batch_size = 100): # This function must call after fit\n",
        "        np.random.seed(1)\n",
        "        indices = np.random.choice(x.shape[0], batch_size)\n",
        "        batch_x = x[indices]\n",
        "        batch_y = y[indices]\n",
        "        label = np.eye(10)[np.array(batch_y)]\n",
        "\n",
        "        def ce(X, y):\n",
        "            return -np.sum(y * np.log(self.predict2(X)))\n",
        "        \n",
        "        def grad_ce(X, y):\n",
        "            return np.matmul(X.transpose(), self.predict2(X) - y)\n",
        "        \n",
        "        #N, C = label.shape # 100, 10\n",
        "        #D = x.shape[1] # 784\n",
        "        W = self.layers[0].w.copy()\n",
        "        C, D = W.shape\n",
        "        diff = np.zeros((D, C))\n",
        "        for i in range(D):\n",
        "          for j in range(C):\n",
        "            epsilon = np.zeros((D, C))\n",
        "            epsilon[i, j] = np.random.rand() * 1e-4\n",
        "\n",
        "            self.layers[0].w = self.layers[0].w.T\n",
        "            self.layers[0].w = self.layers[0].w + epsilon\n",
        "            self.layers[0].w = self.layers[0].w.T\n",
        "            J1 = ce(batch_x, label)\n",
        "            self.layers[0].w = W\n",
        "\n",
        "            self.layers[0].w = self.layers[0].w.T\n",
        "            self.layers[0].w = self.layers[0].w - epsilon\n",
        "            self.layers[0].w = self.layers[0].w.T\n",
        "            J2 = ce(batch_x, label)\n",
        "            self.layers[0].w = W\n",
        "\n",
        "            numeric_grad = (J1 - J2) / (2 * epsilon[i, j])\n",
        "                #print(grad(batch_x, label)[i, j])\n",
        "            derived_grad = grad_ce(batch_x, label)[i, j]\n",
        "\n",
        "            diff[i, j] = np.square(derived_grad - numeric_grad).sum() / np.square(derived_grad + numeric_grad).sum()\n",
        "\n",
        "            # print(diff)\n",
        "        return diff.sum()\n",
        "  \n",
        "\n",
        "    def evaluate_acc(self, y_pred, y):\n",
        "        return np.sum(y_pred == y)/y.shape[0]"
      ],
      "metadata": {
        "id": "2EwGdFIu9ovE"
      },
      "execution_count": null,
      "outputs": []
    },
    {
      "cell_type": "code",
      "source": [
        "class Optimizer:\n",
        "    def __init__(self, net: MLP):\n",
        "        self.net = net\n",
        "\n",
        "    def step(self):\n",
        "        for layer in self.net.layers[::-1]:\n",
        "            if layer.parameters is not None:\n",
        "                self.update(layer.parameters, layer.gradient)\n",
        "\n",
        "    def update(self, params, gradient):\n",
        "        raise NotImplementedError\n",
        "\n",
        "class GradientDescentOptimizer(Optimizer):\n",
        "    def __init__(self, net: MLP, lr: float, alpha: float):\n",
        "        super().__init__(net)\n",
        "        self.lr = lr\n",
        "        self.alpha = alpha\n",
        "\n",
        "    def update(self, params, gradient):\n",
        "        for (p, g) in zip(params, gradient):\n",
        "            p -= self.lr * (g.mean(axis=0) + self.alpha * p)"
      ],
      "metadata": {
        "id": "5qIjozjHUyjI"
      },
      "execution_count": null,
      "outputs": []
    },
    {
      "cell_type": "markdown",
      "source": [
        "# Task 3: Run the experiments and report"
      ],
      "metadata": {
        "id": "XheuM2JuUyjJ"
      }
    },
    {
      "cell_type": "markdown",
      "source": [
        "### Shuffle Training Set and Split out Validation Set"
      ],
      "metadata": {
        "id": "gOB385WCpDp0"
      }
    },
    {
      "cell_type": "code",
      "source": [
        "y_train_shaped = np.reshape(y_train, (y_train.size, 1))\n",
        "trainset = np.concatenate((X_train, y_train_shaped), axis=1)\n",
        "# print(np.shape(trainset))\n",
        "np.random.shuffle(trainset)\n",
        "new_trainset = trainset[:40000, :]\n",
        "validationset = trainset[40000:, :]\n",
        "# print(np.shape(validationset))\n",
        "X_train_split = new_trainset[:, :-1]\n",
        "y_train_split = new_trainset[:, -1].astype(int)\n",
        "X_val = validationset[:, :-1]\n",
        "y_val = validationset[:, -1].astype(int)\n",
        "# print(np.shape(X_train_split))\n",
        "# print(np.shape(y_train_split))\n",
        "# print(np.shape(X_val))\n",
        "# print(np.shape(y_val))"
      ],
      "metadata": {
        "id": "OfAMgrnPpDF9"
      },
      "execution_count": null,
      "outputs": []
    },
    {
      "cell_type": "code",
      "source": [
        "y_train_shaped = np.reshape(y_train, (y_train.size, 1))\n",
        "trainset_un = np.concatenate((X_train_unnorm, y_train_shaped), axis=1)\n",
        "np.random.shuffle(trainset_un)\n",
        "new_trainset_un = trainset_un[:40000, :]\n",
        "validationset_un = trainset_un[40000:, :]\n",
        "X_train_unnorm_split = new_trainset_un[:, :-1]\n",
        "y_train_unnorm_split = new_trainset_un[:, -1].astype(int)\n",
        "X_val_unnorm = validationset_un[:, :-1]\n",
        "y_val_unnorm = validationset_un[:, -1].astype(int)"
      ],
      "metadata": {
        "id": "gXBKSH_LnyMV"
      },
      "execution_count": null,
      "outputs": []
    },
    {
      "cell_type": "markdown",
      "source": [
        "## 3.1 Create three different models"
      ],
      "metadata": {
        "id": "Q79LvZncrkh9"
      }
    },
    {
      "cell_type": "markdown",
      "source": [
        "### 3.1.1 MLP with no hidden layer"
      ],
      "metadata": {
        "id": "FRbj2Uy1rs5W"
      }
    },
    {
      "cell_type": "code",
      "source": [
        "lrs = [0.01, 0.02, 0.05, 0.1, 0.5, 1]"
      ],
      "metadata": {
        "id": "IexZoGxr0oA0"
      },
      "execution_count": null,
      "outputs": []
    },
    {
      "cell_type": "code",
      "source": [
        "GRADIENT_STEPS = 2000 # This is equivalent to epochs\n",
        "BATCH_SIZE = 100"
      ],
      "metadata": {
        "id": "eS80VTj-luNu"
      },
      "execution_count": null,
      "outputs": []
    },
    {
      "cell_type": "code",
      "source": [
        "train_accs = []\n",
        "val_accs = []\n",
        "\n",
        "for i in range(len(lrs)):\n",
        "  model = MLP(num_hidden_layers = 0, num_hidden_units = [])\n",
        "  GDO = GradientDescentOptimizer(model, lrs[i], 0)\n",
        "  model.fit(GDO, X_train_split, y_train_split, GRADIENT_STEPS, BATCH_SIZE)\n",
        "  y_train_pred = model.predict(X_train_split)\n",
        "  y_val_pred = model.predict(X_val)\n",
        "  train_accs.append(model.evaluate_acc(y_train_pred, y_train_split))\n",
        "  val_accs.append(model.evaluate_acc(y_val_pred, y_val))\n",
        "\n",
        "xi = list(range(len(lrs)))\n",
        "plt.plot(xi, train_accs, label='Training Accuracy')\n",
        "plt.plot(xi, val_accs, label='Validation Accuracy')\n",
        "plt.xticks(xi, lrs)\n",
        "plt.legend(loc='lower right')\n",
        "plt.title('Training and Validation Accuracy wrt learning rate, MLP with no hidden layer')\n",
        "plt.show()"
      ],
      "metadata": {
        "colab": {
          "base_uri": "https://localhost:8080/",
          "height": 385
        },
        "id": "BdZT_nIFkabK",
        "outputId": "ffe4216d-680f-4b1b-a4a9-394f5596c84d"
      },
      "execution_count": null,
      "outputs": [
        {
          "output_type": "stream",
          "name": "stderr",
          "text": [
            "100%|██████████| 2000/2000 [00:31<00:00, 63.01it/s]\n",
            "100%|██████████| 2000/2000 [00:33<00:00, 59.06it/s]\n",
            "100%|██████████| 2000/2000 [00:33<00:00, 59.83it/s]\n",
            "100%|██████████| 2000/2000 [00:31<00:00, 62.55it/s]\n",
            "100%|██████████| 2000/2000 [00:31<00:00, 62.64it/s]\n",
            "100%|██████████| 2000/2000 [00:31<00:00, 62.73it/s]\n"
          ]
        },
        {
          "output_type": "display_data",
          "data": {
            "text/plain": [
              "<Figure size 432x288 with 1 Axes>"
            ],
            "image/png": "[encoded data removed]"
          },
          "metadata": {
            "needs_background": "light"
          }
        }
      ]
    },
    {
      "cell_type": "markdown",
      "source": [
        "It can be seen that the best learning rate for this model is 0.5."
      ],
      "metadata": {
        "id": "SXzOw7XkqisA"
      }
    },
    {
      "cell_type": "code",
      "source": [
        "model = MLP(num_hidden_layers = 0, num_hidden_units = [])\n",
        "GDO = GradientDescentOptimizer(model, 0.5, 0)\n",
        "model.fit(GDO, X_train_split, y_train_split, GRADIENT_STEPS, BATCH_SIZE, show_loss = True)\n",
        "y_test_pred = model.predict(X_test)\n",
        "model.evaluate_acc(y_test_pred, y_test)"
      ],
      "metadata": {
        "colab": {
          "base_uri": "https://localhost:8080/",
          "height": 315
        },
        "id": "o18C9tdVqPJw",
        "outputId": "3f8f04c8-c0a3-42d1-bc2c-b4bcdd8b64e1"
      },
      "execution_count": null,
      "outputs": [
        {
          "output_type": "stream",
          "name": "stderr",
          "text": [
            "100%|██████████| 2000/2000 [00:38<00:00, 51.43it/s]\n"
          ]
        },
        {
          "output_type": "execute_result",
          "data": {
            "text/plain": [
              "0.7903"
            ]
          },
          "metadata": {},
          "execution_count": 27
        },
        {
          "output_type": "display_data",
          "data": {
            "text/plain": [
              "<Figure size 432x288 with 1 Axes>"
            ],
            "image/png": "[encoded data removed]"
          },
          "metadata": {
            "needs_background": "light"
          }
        }
      ]
    },
    {
      "cell_type": "markdown",
      "source": [
        "The test accuracy of 0 hidden layer MLP is 0.7903."
      ],
      "metadata": {
        "id": "9UTO8NhueObC"
      }
    },
    {
      "cell_type": "code",
      "source": [
        "model.check_gradient(X_train, y_train)"
      ],
      "metadata": {
        "colab": {
          "base_uri": "https://localhost:8080/"
        },
        "id": "eHouIMtzrvJ0",
        "outputId": "f0d3181b-b011-4646-eb61-3af17daed388"
      },
      "execution_count": null,
      "outputs": [
        {
          "output_type": "execute_result",
          "data": {
            "text/plain": [
              "6.3573214327164e-13"
            ]
          },
          "metadata": {},
          "execution_count": 28
        }
      ]
    },
    {
      "cell_type": "markdown",
      "source": [
        "### 3.1.2 MLP with a single hidden layer having 128 units and ReLU activations"
      ],
      "metadata": {
        "id": "NUosWgVhr2hP"
      }
    },
    {
      "cell_type": "code",
      "source": [
        "GRADIENT_STEPS = 500 # This is equivalent to epochs\n",
        "BATCH_SIZE = 100"
      ],
      "metadata": {
        "id": "PcWBqCn7tDdM"
      },
      "execution_count": null,
      "outputs": []
    },
    {
      "cell_type": "markdown",
      "source": [
        "GRADIENT_STEPS was reduced for efficiency considerations."
      ],
      "metadata": {
        "id": "85IX9j5i2guG"
      }
    },
    {
      "cell_type": "code",
      "source": [
        "train_accs = []\n",
        "val_accs = []\n",
        "\n",
        "for i in range(len(lrs)):\n",
        "  model = MLP(num_hidden_layers = 1, num_hidden_units = [128])\n",
        "  GDO = GradientDescentOptimizer(model, lrs[i], 0)\n",
        "  model.fit(GDO, X_train_split, y_train_split, GRADIENT_STEPS, BATCH_SIZE)\n",
        "  y_train_pred = model.predict(X_train_split)\n",
        "  y_val_pred = model.predict(X_val)\n",
        "  train_accs.append(model.evaluate_acc(y_train_pred, y_train_split))\n",
        "  val_accs.append(model.evaluate_acc(y_val_pred, y_val))\n",
        "\n",
        "xi = list(range(len(lrs)))\n",
        "plt.plot(xi, train_accs, label='Training Accuracy')\n",
        "plt.plot(xi, val_accs, label='Validation Accuracy')\n",
        "plt.xticks(xi, lrs)\n",
        "plt.legend(loc='lower right')\n",
        "plt.title('Training and Validation Accuracy wrt learning rate, MLP with no hidden layer')\n",
        "plt.show()"
      ],
      "metadata": {
        "colab": {
          "base_uri": "https://localhost:8080/",
          "height": 385
        },
        "outputId": "444c49e7-da36-4e21-9b1c-9917dc283277",
        "id": "lGTQyftfrtqO"
      },
      "execution_count": null,
      "outputs": [
        {
          "output_type": "stream",
          "name": "stderr",
          "text": [
            "100%|██████████| 500/500 [01:18<00:00,  6.39it/s]\n",
            "100%|██████████| 500/500 [01:19<00:00,  6.32it/s]\n",
            "100%|██████████| 500/500 [01:19<00:00,  6.27it/s]\n",
            "100%|██████████| 500/500 [01:20<00:00,  6.18it/s]\n",
            "100%|██████████| 500/500 [01:22<00:00,  6.04it/s]\n",
            "100%|██████████| 500/500 [01:20<00:00,  6.17it/s]\n"
          ]
        },
        {
          "output_type": "display_data",
          "data": {
            "text/plain": [
              "<Figure size 432x288 with 1 Axes>"
            ],
            "image/png": "[encoded data removed]"
          },
          "metadata": {
            "needs_background": "light"
          }
        }
      ]
    },
    {
      "cell_type": "markdown",
      "source": [
        "It can be seen that the best learning rate for this model is 0.5."
      ],
      "metadata": {
        "id": "4jgl1y0Wryq4"
      }
    },
    {
      "cell_type": "code",
      "source": [
        "model = MLP(num_hidden_layers = 1, num_hidden_units = [128])\n",
        "GDO = GradientDescentOptimizer(model, 0.5, 0)\n",
        "model.fit(GDO, X_train_split, y_train_split, GRADIENT_STEPS, BATCH_SIZE, show_loss = True)\n",
        "y_test_pred = model.predict(X_test)\n",
        "model.evaluate_acc(y_test_pred, y_test)"
      ],
      "metadata": {
        "colab": {
          "base_uri": "https://localhost:8080/",
          "height": 315
        },
        "outputId": "69e25068-9957-43e5-a8c5-4ddfb501a499",
        "id": "SyQyL6ga17RQ"
      },
      "execution_count": null,
      "outputs": [
        {
          "output_type": "stream",
          "name": "stderr",
          "text": [
            "100%|██████████| 500/500 [01:38<00:00,  5.08it/s]\n"
          ]
        },
        {
          "output_type": "execute_result",
          "data": {
            "text/plain": [
              "0.7829"
            ]
          },
          "metadata": {},
          "execution_count": 31
        },
        {
          "output_type": "display_data",
          "data": {
            "text/plain": [
              "<Figure size 432x288 with 1 Axes>"
            ],
            "image/png": "[encoded data removed]"
          },
          "metadata": {
            "needs_background": "light"
          }
        }
      ]
    },
    {
      "cell_type": "markdown",
      "source": [
        "The test accuracy of 1 hidden layer MLP is 0.7829."
      ],
      "metadata": {
        "id": "0rvHRvBCh_yz"
      }
    },
    {
      "cell_type": "markdown",
      "source": [
        "### 3.1.3 MLP with 2 hidden layers each having 128 units with ReLU activations"
      ],
      "metadata": {
        "id": "Q3tJEJjJr60w"
      }
    },
    {
      "cell_type": "code",
      "source": [
        "GRADIENT_STEPS = 300 # This is equivalent to epochs\n",
        "BATCH_SIZE = 100"
      ],
      "metadata": {
        "id": "39gletWTetEL"
      },
      "execution_count": null,
      "outputs": []
    },
    {
      "cell_type": "code",
      "source": [
        "lrs = [0.01, 0.02, 0.05, 0.1]"
      ],
      "metadata": {
        "id": "kHglIPZ4zFl_"
      },
      "execution_count": null,
      "outputs": []
    },
    {
      "cell_type": "code",
      "source": [
        "train_accs = []\n",
        "val_accs = []\n",
        "\n",
        "for i in range(len(lrs)):\n",
        "  model = MLP(num_hidden_layers = 2, num_hidden_units = [128,128])\n",
        "  GDO = GradientDescentOptimizer(model, lrs[i], 0)\n",
        "  model.fit(GDO, X_train_split, y_train_split, GRADIENT_STEPS, BATCH_SIZE)\n",
        "  y_train_pred = model.predict(X_train_split)\n",
        "  y_val_pred = model.predict(X_val)\n",
        "  train_accs.append(model.evaluate_acc(y_train_pred, y_train_split))\n",
        "  val_accs.append(model.evaluate_acc(y_val_pred, y_val))\n",
        "\n",
        "xi = list(range(len(lrs)))\n",
        "plt.plot(xi, train_accs, label='Training Accuracy')\n",
        "plt.plot(xi, val_accs, label='Validation Accuracy')\n",
        "plt.xticks(xi, lrs)\n",
        "plt.legend(loc='lower right')\n",
        "plt.title('Training and Validation Accuracy wrt learning rate, MLP with no hidden layer')\n",
        "plt.show()"
      ],
      "metadata": {
        "colab": {
          "base_uri": "https://localhost:8080/",
          "height": 350
        },
        "outputId": "0c2ab170-e8a5-4b6e-ebe6-5a4ed270180b",
        "id": "iVx_guAewmkz"
      },
      "execution_count": null,
      "outputs": [
        {
          "output_type": "stream",
          "name": "stderr",
          "text": [
            "100%|██████████| 300/300 [00:55<00:00,  5.36it/s]\n",
            "100%|██████████| 300/300 [00:57<00:00,  5.21it/s]\n",
            "100%|██████████| 300/300 [00:58<00:00,  5.11it/s]\n",
            "100%|██████████| 300/300 [00:58<00:00,  5.15it/s]\n"
          ]
        },
        {
          "output_type": "display_data",
          "data": {
            "text/plain": [
              "<Figure size 432x288 with 1 Axes>"
            ],
            "image/png": "[encoded data removed]"
          },
          "metadata": {
            "needs_background": "light"
          }
        }
      ]
    },
    {
      "cell_type": "markdown",
      "source": [
        "It can be seen that the best learning rate for this model is 0.02. Higher learning rates were removed because with this more complex structure, learning rates as large as 0.5 and 1.0 will cause severe accumulated numerical problems (which ends up in overflow) and uncontrollable running time from previous tests."
      ],
      "metadata": {
        "id": "7mmr5IC7woLh"
      }
    },
    {
      "cell_type": "code",
      "source": [
        "model = MLP(num_hidden_layers = 2, num_hidden_units = [128,128])\n",
        "GDO = GradientDescentOptimizer(model, 0.02, 0)\n",
        "model.fit(GDO, X_train_split, y_train_split, GRADIENT_STEPS, BATCH_SIZE, show_loss = True)\n",
        "y_test_pred = model.predict(X_test)\n",
        "model.evaluate_acc(y_test_pred, y_test)"
      ],
      "metadata": {
        "colab": {
          "base_uri": "https://localhost:8080/",
          "height": 314
        },
        "outputId": "e58e051a-105d-4bc0-b75a-e13cc66e961d",
        "id": "kchwsksFwpzS"
      },
      "execution_count": null,
      "outputs": [
        {
          "output_type": "stream",
          "name": "stderr",
          "text": [
            "100%|██████████| 300/300 [00:58<00:00,  5.17it/s]\n"
          ]
        },
        {
          "output_type": "execute_result",
          "data": {
            "text/plain": [
              "0.749"
            ]
          },
          "metadata": {},
          "execution_count": 53
        },
        {
          "output_type": "display_data",
          "data": {
            "text/plain": [
              "<Figure size 432x288 with 1 Axes>"
            ],
            "image/png": "[encoded data removed]"
          },
          "metadata": {
            "needs_background": "light"
          }
        }
      ]
    },
    {
      "cell_type": "markdown",
      "source": [
        "The test accuracy of 2 hidden layer MLP is 0.749."
      ],
      "metadata": {
        "id": "do7h_NgPjk03"
      }
    },
    {
      "cell_type": "markdown",
      "source": [
        "## 3.2 Take the last model above, i.e., the one with 2 hidden layers, and create two different copies of it in which the activation functions are now tanh and Leaky-ReLU."
      ],
      "metadata": {
        "id": "m4BwD7rysBFR"
      }
    },
    {
      "cell_type": "markdown",
      "source": [
        "### 3.2.1 Activation function tanh"
      ],
      "metadata": {
        "id": "JBRZfpXpsJrR"
      }
    },
    {
      "cell_type": "code",
      "source": [
        "GRADIENT_STEPS = 500 # This is equivalent to epochs\n",
        "BATCH_SIZE = 100"
      ],
      "metadata": {
        "id": "jyoRBHKgkLGE"
      },
      "execution_count": null,
      "outputs": []
    },
    {
      "cell_type": "code",
      "source": [
        "train_accs = []\n",
        "val_accs = []\n",
        "\n",
        "for i in range(len(lrs)):\n",
        "  model = MLP(activation_fn = \"tanh\", num_hidden_layers = 2, num_hidden_units = [128,128])\n",
        "  GDO = GradientDescentOptimizer(model, lrs[i], 0)\n",
        "  model.fit(GDO, X_train_split, y_train_split, GRADIENT_STEPS, BATCH_SIZE)\n",
        "  y_train_pred = model.predict(X_train_split)\n",
        "  y_val_pred = model.predict(X_val)\n",
        "  train_accs.append(model.evaluate_acc(y_train_pred, y_train_split))\n",
        "  val_accs.append(model.evaluate_acc(y_val_pred, y_val))\n",
        "\n",
        "xi = list(range(len(lrs)))\n",
        "plt.plot(xi, train_accs, label='Training Accuracy')\n",
        "plt.plot(xi, val_accs, label='Validation Accuracy')\n",
        "plt.xticks(xi, lrs)\n",
        "plt.legend(loc='lower right')\n",
        "plt.title('Training and Validation Accuracy wrt learning rate, MLP with no hidden layer')\n",
        "plt.show()"
      ],
      "metadata": {
        "colab": {
          "base_uri": "https://localhost:8080/",
          "height": 350
        },
        "outputId": "65d506fb-5523-47fb-c162-77c311e64110",
        "id": "Ktk1scmY2rfH"
      },
      "execution_count": null,
      "outputs": [
        {
          "output_type": "stream",
          "name": "stderr",
          "text": [
            "100%|██████████| 500/500 [01:38<00:00,  5.09it/s]\n",
            "100%|██████████| 500/500 [01:40<00:00,  4.99it/s]\n",
            "100%|██████████| 500/500 [01:38<00:00,  5.06it/s]\n",
            "100%|██████████| 500/500 [01:40<00:00,  4.95it/s]\n"
          ]
        },
        {
          "output_type": "display_data",
          "data": {
            "text/plain": [
              "<Figure size 432x288 with 1 Axes>"
            ],
            "image/png": "[encoded data removed]"
          },
          "metadata": {
            "needs_background": "light"
          }
        }
      ]
    },
    {
      "cell_type": "markdown",
      "source": [
        "It can be seen that the best learning rate for this model is 0.1."
      ],
      "metadata": {
        "id": "GWtVCLhR2tsv"
      }
    },
    {
      "cell_type": "code",
      "source": [
        "model = MLP(activation_fn = \"tanh\", num_hidden_layers = 2, num_hidden_units = [128,128])\n",
        "GDO = GradientDescentOptimizer(model, 0.1, 0)\n",
        "model.fit(GDO, X_train_split, y_train_split, GRADIENT_STEPS, BATCH_SIZE, show_loss = True)\n",
        "y_test_pred = model.predict(X_test)\n",
        "model.evaluate_acc(y_test_pred, y_test)"
      ],
      "metadata": {
        "colab": {
          "base_uri": "https://localhost:8080/",
          "height": 314
        },
        "outputId": "d18d2c26-30d1-4c23-8eb3-8adad6cbe26f",
        "id": "j6BIFxcO2vKu"
      },
      "execution_count": null,
      "outputs": [
        {
          "output_type": "stream",
          "name": "stderr",
          "text": [
            "100%|██████████| 500/500 [01:39<00:00,  5.04it/s]\n"
          ]
        },
        {
          "output_type": "execute_result",
          "data": {
            "text/plain": [
              "0.6896"
            ]
          },
          "metadata": {},
          "execution_count": 56
        },
        {
          "output_type": "display_data",
          "data": {
            "text/plain": [
              "<Figure size 432x288 with 1 Axes>"
            ],
            "image/png": "[encoded data removed]"
          },
          "metadata": {
            "needs_background": "light"
          }
        }
      ]
    },
    {
      "cell_type": "markdown",
      "source": [
        "### 3.2.2 Activation function Leaky-ReLU"
      ],
      "metadata": {
        "id": "8gGQbu8RsN0X"
      }
    },
    {
      "cell_type": "code",
      "source": [
        "train_accs = []\n",
        "val_accs = []\n",
        "\n",
        "for i in range(len(lrs)):\n",
        "  model = MLP(activation_fn = \"Leaky_ReLU\", num_hidden_layers = 2, num_hidden_units = [128,128])\n",
        "  GDO = GradientDescentOptimizer(model, lrs[i], 0)\n",
        "  model.fit(GDO, X_train_split, y_train_split, GRADIENT_STEPS, BATCH_SIZE)\n",
        "  y_train_pred = model.predict(X_train_split)\n",
        "  y_val_pred = model.predict(X_val)\n",
        "  train_accs.append(model.evaluate_acc(y_train_pred, y_train_split))\n",
        "  val_accs.append(model.evaluate_acc(y_val_pred, y_val))\n",
        "\n",
        "xi = list(range(len(lrs)))\n",
        "plt.plot(xi, train_accs, label='Training Accuracy')\n",
        "plt.plot(xi, val_accs, label='Validation Accuracy')\n",
        "plt.xticks(xi, lrs)\n",
        "plt.legend(loc='lower right')\n",
        "plt.title('Training and Validation Accuracy wrt learning rate, MLP with no hidden layer')\n",
        "plt.show()"
      ],
      "metadata": {
        "colab": {
          "base_uri": "https://localhost:8080/",
          "height": 350
        },
        "outputId": "936c6077-b639-41b4-d6f4-aab778d3a304",
        "id": "LINXvRsU6FoU"
      },
      "execution_count": null,
      "outputs": [
        {
          "output_type": "stream",
          "name": "stderr",
          "text": [
            "100%|██████████| 500/500 [01:39<00:00,  5.04it/s]\n",
            "100%|██████████| 500/500 [01:37<00:00,  5.12it/s]\n",
            "100%|██████████| 500/500 [01:39<00:00,  5.05it/s]\n",
            "100%|██████████| 500/500 [01:36<00:00,  5.19it/s]\n"
          ]
        },
        {
          "output_type": "display_data",
          "data": {
            "text/plain": [
              "<Figure size 432x288 with 1 Axes>"
            ],
            "image/png": "[encoded data removed]"
          },
          "metadata": {
            "needs_background": "light"
          }
        }
      ]
    },
    {
      "cell_type": "markdown",
      "source": [
        "It can be seen that the best learning rate for this model is 0.01."
      ],
      "metadata": {
        "id": "8NTUIpjQ6H7V"
      }
    },
    {
      "cell_type": "code",
      "source": [
        "model = MLP(activation_fn = \"Leaky_ReLU\", num_hidden_layers = 2, num_hidden_units = [128,128])\n",
        "GDO = GradientDescentOptimizer(model, 0.01, 0)\n",
        "model.fit(GDO, X_train_split, y_train_split, GRADIENT_STEPS, BATCH_SIZE, show_loss = True)\n",
        "y_test_pred = model.predict(X_test)\n",
        "model.evaluate_acc(y_test_pred, y_test)"
      ],
      "metadata": {
        "colab": {
          "base_uri": "https://localhost:8080/",
          "height": 314
        },
        "outputId": "417a5da1-2952-472a-d669-f7ae4e126177",
        "id": "OyuOGGjC6JSl"
      },
      "execution_count": null,
      "outputs": [
        {
          "output_type": "stream",
          "name": "stderr",
          "text": [
            "100%|██████████| 500/500 [01:35<00:00,  5.24it/s]\n"
          ]
        },
        {
          "output_type": "execute_result",
          "data": {
            "text/plain": [
              "0.7589"
            ]
          },
          "metadata": {},
          "execution_count": 63
        },
        {
          "output_type": "display_data",
          "data": {
            "text/plain": [
              "<Figure size 432x288 with 1 Axes>"
            ],
            "image/png": "[encoded data removed]"
          },
          "metadata": {
            "needs_background": "light"
          }
        }
      ]
    },
    {
      "cell_type": "markdown",
      "source": [
        "## 3.3 Add L2 regularization to MLP with 2 hidden layers each having 128 units with ReLU activations"
      ],
      "metadata": {
        "id": "23P4Oo8IsSs3"
      }
    },
    {
      "cell_type": "code",
      "source": [
        "lambdas = [0.2, 0.4, 0.6, 0.8]"
      ],
      "metadata": {
        "id": "DH7BORwf857m"
      },
      "execution_count": null,
      "outputs": []
    },
    {
      "cell_type": "code",
      "source": [
        "lrs = [0.01, 0.02, 0.05, 0.1]"
      ],
      "metadata": {
        "id": "C0YE5T1MsxNs"
      },
      "execution_count": null,
      "outputs": []
    },
    {
      "cell_type": "code",
      "source": [
        "table = [[\"learning rate\", \"lambda\", \"training accuracy\", \"validation accuracy\"]]\n",
        "\n",
        "for i in range(len(lrs)):\n",
        "  for j in range(len(lambdas)):\n",
        "    model = MLP(num_hidden_layers = 2, num_hidden_units = [128,128])\n",
        "    GDO = GradientDescentOptimizer(model, lrs[i], lambdas[j])\n",
        "    model.fit(GDO, X_train_split, y_train_split, GRADIENT_STEPS, BATCH_SIZE)\n",
        "    y_train_pred = model.predict(X_train_split)\n",
        "    y_val_pred = model.predict(X_val)\n",
        "\n",
        "    row = []\n",
        "    row.append(lrs[i])\n",
        "    row.append(lambdas[j])\n",
        "    row.append(model.evaluate_acc(y_train_pred, y_train_split))\n",
        "    row.append(model.evaluate_acc(y_val_pred, y_val))\n",
        "\n",
        "    table.append(row.copy())\n",
        "\n",
        "print(tabulate(table, headers='firstrow', tablefmt='fancy_grid'))"
      ],
      "metadata": {
        "colab": {
          "base_uri": "https://localhost:8080/"
        },
        "id": "d5fL_i718_QP",
        "outputId": "ed4a217c-3167-4aeb-8a96-4ac15b48f57e"
      },
      "execution_count": null,
      "outputs": [
        {
          "output_type": "stream",
          "name": "stderr",
          "text": [
            "100%|██████████| 500/500 [01:33<00:00,  5.33it/s]\n",
            "100%|██████████| 500/500 [01:34<00:00,  5.28it/s]\n",
            "100%|██████████| 500/500 [01:36<00:00,  5.19it/s]\n",
            "100%|██████████| 500/500 [01:34<00:00,  5.26it/s]\n",
            "100%|██████████| 500/500 [01:35<00:00,  5.26it/s]\n",
            "100%|██████████| 500/500 [01:34<00:00,  5.26it/s]\n",
            "100%|██████████| 500/500 [01:33<00:00,  5.33it/s]\n",
            "100%|██████████| 500/500 [01:35<00:00,  5.25it/s]\n",
            "100%|██████████| 500/500 [01:34<00:00,  5.30it/s]\n",
            "100%|██████████| 500/500 [01:36<00:00,  5.20it/s]\n",
            "100%|██████████| 500/500 [01:34<00:00,  5.30it/s]\n",
            "100%|██████████| 500/500 [01:35<00:00,  5.26it/s]\n",
            "100%|██████████| 500/500 [01:33<00:00,  5.33it/s]\n",
            "100%|██████████| 500/500 [01:35<00:00,  5.26it/s]\n",
            "100%|██████████| 500/500 [01:33<00:00,  5.33it/s]\n",
            "100%|██████████| 500/500 [01:35<00:00,  5.26it/s]\n"
          ]
        },
        {
          "output_type": "stream",
          "name": "stdout",
          "text": [
            "╒═════════════════╤══════════╤═════════════════════╤═══════════════════════╕\n",
            "│   learning rate │   lambda │   training accuracy │   validation accuracy │\n",
            "╞═════════════════╪══════════╪═════════════════════╪═══════════════════════╡\n",
            "│            0.01 │      0.2 │            0.763775 │               0.7557  │\n",
            "├─────────────────┼──────────┼─────────────────────┼───────────────────────┤\n",
            "│            0.01 │      0.4 │            0.7698   │               0.76865 │\n",
            "├─────────────────┼──────────┼─────────────────────┼───────────────────────┤\n",
            "│            0.01 │      0.6 │            0.681825 │               0.68625 │\n",
            "├─────────────────┼──────────┼─────────────────────┼───────────────────────┤\n",
            "│            0.01 │      0.8 │            0.54035  │               0.5391  │\n",
            "├─────────────────┼──────────┼─────────────────────┼───────────────────────┤\n",
            "│            0.02 │      0.2 │            0.7878   │               0.7873  │\n",
            "├─────────────────┼──────────┼─────────────────────┼───────────────────────┤\n",
            "│            0.02 │      0.4 │            0.4679   │               0.4747  │\n",
            "├─────────────────┼──────────┼─────────────────────┼───────────────────────┤\n",
            "│            0.02 │      0.6 │            0.19025  │               0.19035 │\n",
            "├─────────────────┼──────────┼─────────────────────┼───────────────────────┤\n",
            "│            0.02 │      0.8 │            0.099675 │               0.10065 │\n",
            "├─────────────────┼──────────┼─────────────────────┼───────────────────────┤\n",
            "│            0.05 │      0.2 │            0.468625 │               0.4741  │\n",
            "├─────────────────┼──────────┼─────────────────────┼───────────────────────┤\n",
            "│            0.05 │      0.4 │            0.099675 │               0.10065 │\n",
            "├─────────────────┼──────────┼─────────────────────┼───────────────────────┤\n",
            "│            0.05 │      0.6 │            0.099725 │               0.10055 │\n",
            "├─────────────────┼──────────┼─────────────────────┼───────────────────────┤\n",
            "│            0.05 │      0.8 │            0.099725 │               0.10055 │\n",
            "├─────────────────┼──────────┼─────────────────────┼───────────────────────┤\n",
            "│            0.1  │      0.2 │            0.370925 │               0.3757  │\n",
            "├─────────────────┼──────────┼─────────────────────┼───────────────────────┤\n",
            "│            0.1  │      0.4 │            0.099725 │               0.10055 │\n",
            "├─────────────────┼──────────┼─────────────────────┼───────────────────────┤\n",
            "│            0.1  │      0.6 │            0.099725 │               0.10055 │\n",
            "├─────────────────┼──────────┼─────────────────────┼───────────────────────┤\n",
            "│            0.1  │      0.8 │            0.099725 │               0.10055 │\n",
            "╘═════════════════╧══════════╧═════════════════════╧═══════════════════════╛\n"
          ]
        }
      ]
    },
    {
      "cell_type": "markdown",
      "source": [
        "It can be seen that the best combination of learning rate and lambda for this model is 0.02 and 0.2. A lambda value that is too high will severely impact accuracies."
      ],
      "metadata": {
        "id": "f04sqo5J-Y47"
      }
    },
    {
      "cell_type": "code",
      "source": [
        "model = MLP(num_hidden_layers = 2, num_hidden_units = [128,128])\n",
        "GDO = GradientDescentOptimizer(model, 0.02, 0.2)\n",
        "model.fit(GDO, X_train_split, y_train_split, GRADIENT_STEPS, BATCH_SIZE, show_loss = True)\n",
        "y_test_pred = model.predict(X_test)\n",
        "model.evaluate_acc(y_test_pred, y_test)"
      ],
      "metadata": {
        "colab": {
          "base_uri": "https://localhost:8080/",
          "height": 314
        },
        "outputId": "2c57b991-ea48-4f1b-f8cf-542799aa6371",
        "id": "6lbkpyoX-aLi"
      },
      "execution_count": null,
      "outputs": [
        {
          "output_type": "stream",
          "name": "stderr",
          "text": [
            "100%|██████████| 500/500 [01:33<00:00,  5.36it/s]\n"
          ]
        },
        {
          "output_type": "execute_result",
          "data": {
            "text/plain": [
              "0.7774"
            ]
          },
          "metadata": {},
          "execution_count": 62
        },
        {
          "output_type": "display_data",
          "data": {
            "text/plain": [
              "<Figure size 432x288 with 1 Axes>"
            ],
            "image/png": "[encoded data removed]"
          },
          "metadata": {
            "needs_background": "light"
          }
        }
      ]
    },
    {
      "cell_type": "markdown",
      "source": [
        "## 3.4 MLP with 2 hidden layers each having 128 units with ReLU activations as above. However, this time, train it with unnormalized images."
      ],
      "metadata": {
        "id": "Q4q-eUAhsgRF"
      }
    },
    {
      "cell_type": "code",
      "source": [
        "lrs = [1e-6, 5e-6, 1e-5, 5e-5, 1e-4]"
      ],
      "metadata": {
        "id": "xN62cqO10tDq"
      },
      "execution_count": null,
      "outputs": []
    },
    {
      "cell_type": "markdown",
      "source": [
        "lrs was modified to prevent overflow."
      ],
      "metadata": {
        "id": "qFrGwCTqqJ4-"
      }
    },
    {
      "cell_type": "code",
      "source": [
        "train_accs = []\n",
        "val_accs = []\n",
        "\n",
        "for i in range(len(lrs)):\n",
        "  model = MLP(num_hidden_layers = 2, num_hidden_units = [128,128])\n",
        "  GDO = GradientDescentOptimizer(model, lrs[i], 0)\n",
        "  model.fit(GDO, X_train_unnorm_split, y_train_unnorm_split, GRADIENT_STEPS, BATCH_SIZE)\n",
        "  y_train_unnorm_pred = model.predict(X_train_unnorm_split)\n",
        "  y_val_unnorm_pred = model.predict(X_val_unnorm)\n",
        "  train_accs.append(model.evaluate_acc(y_train_unnorm_pred, y_train_unnorm_split))\n",
        "  val_accs.append(model.evaluate_acc(y_val_unnorm_pred, y_val_unnorm))\n",
        "\n",
        "xi = list(range(len(lrs)))\n",
        "plt.plot(xi, train_accs, label='Training Accuracy')\n",
        "plt.plot(xi, val_accs, label='Validation Accuracy')\n",
        "plt.xticks(xi, lrs)\n",
        "plt.legend(loc='lower right')\n",
        "plt.title('Training and Validation Accuracy wrt learning rate, unnormalized images')\n",
        "plt.show()"
      ],
      "metadata": {
        "colab": {
          "base_uri": "https://localhost:8080/",
          "height": 370
        },
        "outputId": "bf7afdea-fc70-4128-918b-5f2d6b939121",
        "id": "pcBxBF56Gtju"
      },
      "execution_count": null,
      "outputs": [
        {
          "output_type": "stream",
          "name": "stderr",
          "text": [
            "100%|██████████| 500/500 [00:50<00:00,  9.85it/s]\n",
            "100%|██████████| 500/500 [00:53<00:00,  9.28it/s]\n",
            "100%|██████████| 500/500 [00:48<00:00, 10.22it/s]\n",
            "100%|██████████| 500/500 [00:48<00:00, 10.29it/s]\n",
            "100%|██████████| 500/500 [00:48<00:00, 10.41it/s]\n"
          ]
        },
        {
          "output_type": "display_data",
          "data": {
            "text/plain": [
              "<Figure size 432x288 with 1 Axes>"
            ],
            "image/png": "[encoded data removed]"
          },
          "metadata": {
            "needs_background": "light"
          }
        }
      ]
    },
    {
      "cell_type": "code",
      "source": [
        "model = MLP(num_hidden_layers = 2, num_hidden_units = [128,128])\n",
        "GDO = GradientDescentOptimizer(model, 1e-5, 0)\n",
        "model.fit(GDO, X_train_unnorm_split, y_train_unnorm_split, GRADIENT_STEPS, BATCH_SIZE, show_loss = True)\n",
        "y_test_pred = model.predict(X_test_unnorm)\n",
        "model.evaluate_acc(y_test_pred, y_test)"
      ],
      "metadata": {
        "colab": {
          "base_uri": "https://localhost:8080/",
          "height": 315
        },
        "id": "OY2YZVrqz2gj",
        "outputId": "99da37ea-bede-40ef-ff4d-2fddf2b6bab5"
      },
      "execution_count": null,
      "outputs": [
        {
          "output_type": "stream",
          "name": "stderr",
          "text": [
            "100%|██████████| 500/500 [00:51<00:00,  9.77it/s]\n"
          ]
        },
        {
          "output_type": "execute_result",
          "data": {
            "text/plain": [
              "0.6735"
            ]
          },
          "metadata": {},
          "execution_count": 39
        },
        {
          "output_type": "display_data",
          "data": {
            "text/plain": [
              "<Figure size 432x288 with 1 Axes>"
            ],
            "image/png": "[encoded data removed]"
          },
          "metadata": {
            "needs_background": "light"
          }
        }
      ]
    },
    {
      "cell_type": "markdown",
      "source": [
        "## 3.5 CNN experiment"
      ],
      "metadata": {
        "id": "TZWI57nZlY4X"
      }
    },
    {
      "cell_type": "code",
      "source": [
        "(x_train_cnn, y_train_cnn), (x_val_cnn, y_val_cnn) = keras.datasets.fashion_mnist.load_data()"
      ],
      "metadata": {
        "colab": {
          "base_uri": "https://localhost:8080/"
        },
        "id": "SWG0YijmUlRW",
        "outputId": "cad2db9c-5ce0-4c7a-e8a5-31b9b4790a9c"
      },
      "execution_count": null,
      "outputs": [
        {
          "output_type": "stream",
          "name": "stdout",
          "text": [
            "Downloading data from https://storage.googleapis.com/tensorflow/tf-keras-datasets/train-labels-idx1-ubyte.gz\n",
            "29515/29515 [==============================] - 0s 0us/step\n",
            "Downloading data from https://storage.googleapis.com/tensorflow/tf-keras-datasets/train-images-idx3-ubyte.gz\n",
            "26421880/26421880 [==============================] - 0s 0us/step\n",
            "Downloading data from https://storage.googleapis.com/tensorflow/tf-keras-datasets/t10k-labels-idx1-ubyte.gz\n",
            "5148/5148 [==============================] - 0s 0us/step\n",
            "Downloading data from https://storage.googleapis.com/tensorflow/tf-keras-datasets/t10k-images-idx3-ubyte.gz\n",
            "4422102/4422102 [==============================] - 0s 0us/step\n"
          ]
        }
      ]
    },
    {
      "cell_type": "code",
      "source": [
        "model = keras.Sequential([\n",
        "  keras.layers.Rescaling(1./255, input_shape=(28, 28, 1)),\n",
        "  keras.layers.Conv2D(32, 3, padding='same', activation='relu'),\n",
        "  keras.layers.MaxPooling2D(),\n",
        "  keras.layers.Conv2D(64, 3, padding='same', activation='relu'),\n",
        "  keras.layers.MaxPooling2D(),\n",
        "  keras.layers.Flatten(),\n",
        "  keras.layers.Dense(128, activation='relu'),\n",
        "  keras.layers.Dense(128, activation='relu'),\n",
        "  keras.layers.Dense(10)\n",
        "])\n",
        "model.summary()\n",
        "\n",
        "model.compile(optimizer='adam', loss=keras.losses.SparseCategoricalCrossentropy(from_logits=True), metrics=['accuracy'])\n",
        "\n",
        "epo = 10\n",
        "\n",
        "history = model.fit(x=x_train_cnn, y=y_train_cnn, validation_data=(x_val_cnn, y_val_cnn), epochs=epo)"
      ],
      "metadata": {
        "colab": {
          "base_uri": "https://localhost:8080/"
        },
        "id": "HD53C3mFldCr",
        "outputId": "e7fbd460-fa91-4e64-8d05-6fd237ed54a2"
      },
      "execution_count": null,
      "outputs": [
        {
          "output_type": "stream",
          "name": "stdout",
          "text": [
            "Model: \"sequential\"\n",
            "_________________________________________________________________\n",
            " Layer (type)                Output Shape              Param #   \n",
            "=================================================================\n",
            " rescaling (Rescaling)       (None, 28, 28, 1)         0         \n",
            "                                                                 \n",
            " conv2d (Conv2D)             (None, 28, 28, 32)        320       \n",
            "                                                                 \n",
            " max_pooling2d (MaxPooling2D  (None, 14, 14, 32)       0         \n",
            " )                                                               \n",
            "                                                                 \n",
            " conv2d_1 (Conv2D)           (None, 14, 14, 64)        18496     \n",
            "                                                                 \n",
            " max_pooling2d_1 (MaxPooling  (None, 7, 7, 64)         0         \n",
            " 2D)                                                             \n",
            "                                                                 \n",
            " flatten (Flatten)           (None, 3136)              0         \n",
            "                                                                 \n",
            " dense (Dense)               (None, 128)               401536    \n",
            "                                                                 \n",
            " dense_1 (Dense)             (None, 128)               16512     \n",
            "                                                                 \n",
            " dense_2 (Dense)             (None, 10)                1290      \n",
            "                                                                 \n",
            "=================================================================\n",
            "Total params: 438,154\n",
            "Trainable params: 438,154\n",
            "Non-trainable params: 0\n",
            "_________________________________________________________________\n",
            "Epoch 1/10\n",
            "1875/1875 [==============================] - 97s 51ms/step - loss: 0.4044 - accuracy: 0.8538 - val_loss: 0.3349 - val_accuracy: 0.8758\n",
            "Epoch 2/10\n",
            "1875/1875 [==============================] - 90s 48ms/step - loss: 0.2622 - accuracy: 0.9039 - val_loss: 0.2767 - val_accuracy: 0.8990\n",
            "Epoch 3/10\n",
            "1875/1875 [==============================] - 93s 49ms/step - loss: 0.2176 - accuracy: 0.9189 - val_loss: 0.2683 - val_accuracy: 0.9036\n",
            "Epoch 4/10\n",
            "1875/1875 [==============================] - 88s 47ms/step - loss: 0.1862 - accuracy: 0.9309 - val_loss: 0.2411 - val_accuracy: 0.9121\n",
            "Epoch 5/10\n",
            "1875/1875 [==============================] - 87s 46ms/step - loss: 0.1601 - accuracy: 0.9395 - val_loss: 0.2367 - val_accuracy: 0.9178\n",
            "Epoch 6/10\n",
            "1875/1875 [==============================] - 93s 50ms/step - loss: 0.1356 - accuracy: 0.9486 - val_loss: 0.2754 - val_accuracy: 0.9063\n",
            "Epoch 7/10\n",
            "1875/1875 [==============================] - 87s 46ms/step - loss: 0.1162 - accuracy: 0.9566 - val_loss: 0.2982 - val_accuracy: 0.9089\n",
            "Epoch 8/10\n",
            "1875/1875 [==============================] - 87s 47ms/step - loss: 0.0990 - accuracy: 0.9622 - val_loss: 0.2749 - val_accuracy: 0.9157\n",
            "Epoch 9/10\n",
            "1875/1875 [==============================] - 92s 49ms/step - loss: 0.0836 - accuracy: 0.9685 - val_loss: 0.3013 - val_accuracy: 0.9204\n",
            "Epoch 10/10\n",
            "1875/1875 [==============================] - 87s 46ms/step - loss: 0.0710 - accuracy: 0.9736 - val_loss: 0.3215 - val_accuracy: 0.9179\n"
          ]
        }
      ]
    },
    {
      "cell_type": "code",
      "source": [
        "acc = history.history['accuracy']\n",
        "val_acc = history.history['val_accuracy']\n",
        "\n",
        "loss = history.history['loss']\n",
        "val_loss = history.history['val_loss']\n",
        "\n",
        "epochs_range = range(epo)\n",
        "\n",
        "plt.figure(figsize=(8, 4))\n",
        "plt.subplot(1, 2, 1)\n",
        "plt.plot(epochs_range, acc, label='Training Accuracy')\n",
        "plt.plot(epochs_range, val_acc, label='Test Accuracy')\n",
        "plt.legend(loc='lower right')\n",
        "plt.title('Training and Test Accuracy')\n",
        "\n",
        "plt.subplot(1, 2, 2)\n",
        "plt.plot(epochs_range, loss, label='Training Loss')\n",
        "plt.plot(epochs_range, val_loss, label='Test Loss')\n",
        "plt.legend(loc='upper right')\n",
        "plt.title('Training and Test Loss')\n",
        "plt.show()"
      ],
      "metadata": {
        "colab": {
          "base_uri": "https://localhost:8080/",
          "height": 281
        },
        "id": "y15QNgzwvsGt",
        "outputId": "c8d91ac9-7160-4f33-9c79-3082ead4d425"
      },
      "execution_count": null,
      "outputs": [
        {
          "output_type": "display_data",
          "data": {
            "text/plain": [
              "<Figure size 576x288 with 2 Axes>"
            ],
            "image/png": "[encoded data removed]"
          },
          "metadata": {
            "needs_background": "light"
          }
        }
      ]
    },
    {
      "cell_type": "markdown",
      "source": [
        "Thus, we can see that overfitting starts to occur at the 6th epoch, and we should stop the training there."
      ],
      "metadata": {
        "id": "mjR5VwITzlO9"
      }
    },
    {
      "cell_type": "markdown",
      "source": [
        "## 3.6 Using your MLP implementation, try to come up with an MLP architecture that performs as well as possible."
      ],
      "metadata": {
        "id": "wrik6MmUuWCp"
      }
    },
    {
      "cell_type": "code",
      "source": [
        "lrs = [0.001, 0.002, 0.005]"
      ],
      "metadata": {
        "id": "lSWLYDOMshKb"
      },
      "execution_count": null,
      "outputs": []
    },
    {
      "cell_type": "markdown",
      "source": [
        "lrs was modified to prevent overflow issues."
      ],
      "metadata": {
        "id": "rSdubKJMvMNP"
      }
    },
    {
      "cell_type": "code",
      "source": [
        "layers = [0, 1, 2, 3]"
      ],
      "metadata": {
        "id": "JfupE8CUIu3o"
      },
      "execution_count": null,
      "outputs": []
    },
    {
      "cell_type": "code",
      "source": [
        "table = [[\"learning rate\", \"layer count\", \"training accuracy\", \"validation accuracy\"]]\n",
        "\n",
        "for i in range(len(lrs)):\n",
        "  for j in range(len(layers)):\n",
        "    hidden_unit_list = []\n",
        "    for k in range(layers[j]):\n",
        "      hidden_unit_list.append(128)\n",
        "    \n",
        "    model = MLP(num_hidden_layers = layers[j], num_hidden_units = hidden_unit_list)\n",
        "    GDO = GradientDescentOptimizer(model, lrs[i], 0)\n",
        "    model.fit(GDO, X_train_split, y_train_split, GRADIENT_STEPS, BATCH_SIZE)\n",
        "    y_train_pred = model.predict(X_train_split)\n",
        "    y_val_pred = model.predict(X_val)\n",
        "\n",
        "    row = []\n",
        "    row.append(lrs[i])\n",
        "    row.append(layers[j])\n",
        "    row.append(model.evaluate_acc(y_train_pred, y_train_split))\n",
        "    row.append(model.evaluate_acc(y_val_pred, y_val))\n",
        "\n",
        "    table.append(row.copy())\n",
        "\n",
        "print(tabulate(table, headers='firstrow', tablefmt='fancy_grid'))"
      ],
      "metadata": {
        "colab": {
          "base_uri": "https://localhost:8080/"
        },
        "outputId": "0acf2cb2-5559-4267-8862-66ae12f8d011",
        "id": "DxzchFWMI2nl"
      },
      "execution_count": null,
      "outputs": [
        {
          "output_type": "stream",
          "name": "stderr",
          "text": [
            "100%|██████████| 500/500 [00:07<00:00, 63.04it/s]\n",
            "100%|██████████| 500/500 [01:19<00:00,  6.31it/s]\n",
            "100%|██████████| 500/500 [01:33<00:00,  5.36it/s]\n",
            "100%|██████████| 500/500 [01:44<00:00,  4.78it/s]\n",
            "100%|██████████| 500/500 [00:07<00:00, 65.88it/s]\n",
            "100%|██████████| 500/500 [01:21<00:00,  6.15it/s]\n",
            "100%|██████████| 500/500 [01:32<00:00,  5.40it/s]\n",
            "100%|██████████| 500/500 [01:43<00:00,  4.82it/s]\n",
            "100%|██████████| 500/500 [00:09<00:00, 54.59it/s]\n",
            "100%|██████████| 500/500 [01:20<00:00,  6.25it/s]\n",
            "100%|██████████| 500/500 [01:32<00:00,  5.41it/s]\n",
            "100%|██████████| 500/500 [01:46<00:00,  4.71it/s]\n"
          ]
        },
        {
          "output_type": "stream",
          "name": "stdout",
          "text": [
            "╒═════════════════╤═══════════════╤═════════════════════╤═══════════════════════╕\n",
            "│   learning rate │   layer count │   training accuracy │   validation accuracy │\n",
            "╞═════════════════╪═══════════════╪═════════════════════╪═══════════════════════╡\n",
            "│           0.001 │             0 │            0.0866   │               0.08555 │\n",
            "├─────────────────┼───────────────┼─────────────────────┼───────────────────────┤\n",
            "│           0.001 │             1 │            0.4483   │               0.4493  │\n",
            "├─────────────────┼───────────────┼─────────────────────┼───────────────────────┤\n",
            "│           0.001 │             2 │            0.673125 │               0.6716  │\n",
            "├─────────────────┼───────────────┼─────────────────────┼───────────────────────┤\n",
            "│           0.001 │             3 │            0.733175 │               0.7253  │\n",
            "├─────────────────┼───────────────┼─────────────────────┼───────────────────────┤\n",
            "│           0.002 │             0 │            0.12465  │               0.12535 │\n",
            "├─────────────────┼───────────────┼─────────────────────┼───────────────────────┤\n",
            "│           0.002 │             1 │            0.536375 │               0.53825 │\n",
            "├─────────────────┼───────────────┼─────────────────────┼───────────────────────┤\n",
            "│           0.002 │             2 │            0.716825 │               0.7113  │\n",
            "├─────────────────┼───────────────┼─────────────────────┼───────────────────────┤\n",
            "│           0.002 │             3 │            0.737475 │               0.72685 │\n",
            "├─────────────────┼───────────────┼─────────────────────┼───────────────────────┤\n",
            "│           0.005 │             0 │            0.233725 │               0.23455 │\n",
            "├─────────────────┼───────────────┼─────────────────────┼───────────────────────┤\n",
            "│           0.005 │             1 │            0.63735  │               0.643   │\n",
            "├─────────────────┼───────────────┼─────────────────────┼───────────────────────┤\n",
            "│           0.005 │             2 │            0.751375 │               0.7431  │\n",
            "├─────────────────┼───────────────┼─────────────────────┼───────────────────────┤\n",
            "│           0.005 │             3 │            0.509925 │               0.5091  │\n",
            "╘═════════════════╧═══════════════╧═════════════════════╧═══════════════════════╛\n"
          ]
        }
      ]
    },
    {
      "cell_type": "markdown",
      "source": [
        "Test for 4 layer networks with smaller lrs."
      ],
      "metadata": {
        "id": "my6XRP7x2cou"
      }
    },
    {
      "cell_type": "code",
      "source": [
        "lrs = [0.0001, 0.0002, 0.0005]"
      ],
      "metadata": {
        "id": "IGi5dRFT2aws"
      },
      "execution_count": null,
      "outputs": []
    },
    {
      "cell_type": "code",
      "source": [
        "train_accs = []\n",
        "val_accs = []\n",
        "\n",
        "for i in range(len(lrs)):\n",
        "  model = MLP(num_hidden_layers = 4, num_hidden_units = [128,128,128,128])\n",
        "  GDO = GradientDescentOptimizer(model, lrs[i], 0)\n",
        "  model.fit(GDO, X_train_split, y_train_split, GRADIENT_STEPS, BATCH_SIZE)\n",
        "  y_train_pred = model.predict(X_train_split)\n",
        "  y_val_pred = model.predict(X_val)\n",
        "  train_accs.append(model.evaluate_acc(y_train_pred, y_train_split))\n",
        "  val_accs.append(model.evaluate_acc(y_val_pred, y_val))\n",
        "\n",
        "xi = list(range(len(lrs)))\n",
        "plt.plot(xi, train_accs, label='Training Accuracy')\n",
        "plt.plot(xi, val_accs, label='Validation Accuracy')\n",
        "plt.xticks(xi, lrs)\n",
        "plt.legend(loc='lower right')\n",
        "plt.title('Training and Validation Accuracy wrt learning rate, MLP with 4 hidden layers')\n",
        "plt.show()"
      ],
      "metadata": {
        "colab": {
          "base_uri": "https://localhost:8080/",
          "height": 333
        },
        "id": "aYPPwVF42hgx",
        "outputId": "10b42b3d-b62f-44c2-f788-c4768c51a5c9"
      },
      "execution_count": null,
      "outputs": [
        {
          "output_type": "stream",
          "name": "stderr",
          "text": [
            "100%|██████████| 500/500 [02:02<00:00,  4.08it/s]\n",
            "100%|██████████| 500/500 [02:01<00:00,  4.11it/s]\n",
            "100%|██████████| 500/500 [02:00<00:00,  4.15it/s]\n"
          ]
        },
        {
          "output_type": "display_data",
          "data": {
            "text/plain": [
              "<Figure size 432x288 with 1 Axes>"
            ],
            "image/png": "[encoded data removed]"
          },
          "metadata": {
            "needs_background": "light"
          }
        }
      ]
    },
    {
      "cell_type": "code",
      "source": [
        "train_accs"
      ],
      "metadata": {
        "colab": {
          "base_uri": "https://localhost:8080/"
        },
        "id": "eqDe5MT_tWEo",
        "outputId": "4d3852ad-a849-4e84-9597-d004290f5a39"
      },
      "execution_count": null,
      "outputs": [
        {
          "output_type": "execute_result",
          "data": {
            "text/plain": [
              "[0.723125, 0.729575, 0.6511]"
            ]
          },
          "metadata": {},
          "execution_count": 29
        }
      ]
    },
    {
      "cell_type": "code",
      "source": [
        "val_accs"
      ],
      "metadata": {
        "colab": {
          "base_uri": "https://localhost:8080/"
        },
        "id": "x1ee78CAtYMA",
        "outputId": "696e185b-8c3c-48f9-d38a-fcd7634407e4"
      },
      "execution_count": null,
      "outputs": [
        {
          "output_type": "execute_result",
          "data": {
            "text/plain": [
              "[0.7073, 0.71435, 0.63875]"
            ]
          },
          "metadata": {},
          "execution_count": 30
        }
      ]
    },
    {
      "cell_type": "markdown",
      "source": [
        "It can be seen that the best combination of learning rate and number of layers for this model is 0.002 and 3 or 0.0002 and 4. Note that a higher number of layers or a greater learning rate would cause numerical issues."
      ],
      "metadata": {
        "id": "rhqE0g4qJ7Gl"
      }
    },
    {
      "cell_type": "code",
      "source": [
        "model = MLP(num_hidden_layers = 3, num_hidden_units = [128,128,128])\n",
        "GDO = GradientDescentOptimizer(model, 0.002, 0)\n",
        "model.fit(GDO, X_train_split, y_train_split, GRADIENT_STEPS, BATCH_SIZE, show_loss = True)\n",
        "y_test_pred = model.predict(X_test)\n",
        "model.evaluate_acc(y_test_pred, y_test)"
      ],
      "metadata": {
        "colab": {
          "base_uri": "https://localhost:8080/",
          "height": 317
        },
        "id": "lbWINPtc2Qb-",
        "outputId": "9faff0d9-31ed-43ea-fb9d-0eddebfd4827"
      },
      "execution_count": null,
      "outputs": [
        {
          "output_type": "stream",
          "name": "stderr",
          "text": [
            "100%|██████████| 500/500 [01:46<00:00,  4.68it/s]\n"
          ]
        },
        {
          "output_type": "execute_result",
          "data": {
            "text/plain": [
              "0.7197"
            ]
          },
          "metadata": {},
          "execution_count": 84
        },
        {
          "output_type": "display_data",
          "data": {
            "text/plain": [
              "<Figure size 432x288 with 1 Axes>"
            ],
            "image/png": "[encoded data removed]"
          },
          "metadata": {
            "needs_background": "light"
          }
        }
      ]
    },
    {
      "cell_type": "code",
      "source": [
        "model = MLP(num_hidden_layers = 4, num_hidden_units = [128,128,128,128])\n",
        "GDO = GradientDescentOptimizer(model, 0.0002, 0)\n",
        "model.fit(GDO, X_train_split, y_train_split, GRADIENT_STEPS, BATCH_SIZE, show_loss = True)\n",
        "y_test_pred = model.predict(X_test)\n",
        "model.evaluate_acc(y_test_pred, y_test)"
      ],
      "metadata": {
        "colab": {
          "base_uri": "https://localhost:8080/",
          "height": 315
        },
        "id": "GQkdf5Nx5Joj",
        "outputId": "ec83624d-9dd2-4fc2-9ee1-212a812e735b"
      },
      "execution_count": null,
      "outputs": [
        {
          "output_type": "stream",
          "name": "stderr",
          "text": [
            "100%|██████████| 500/500 [02:02<00:00,  4.08it/s]\n"
          ]
        },
        {
          "output_type": "execute_result",
          "data": {
            "text/plain": [
              "0.7138"
            ]
          },
          "metadata": {},
          "execution_count": 85
        },
        {
          "output_type": "display_data",
          "data": {
            "text/plain": [
              "<Figure size 432x288 with 1 Axes>"
            ],
            "image/png": "[encoded data removed]"
          },
          "metadata": {
            "needs_background": "light"
          }
        }
      ]
    },
    {
      "cell_type": "markdown",
      "source": [
        "A combination of more layers and smaller learning rate could achieve decent accuracy, but as they are not competitive compared to previous models, and the loss function fluctuates a lot, and it consumes more time, we decided to not use these models."
      ],
      "metadata": {
        "id": "qOCFtqqlsoHo"
      }
    },
    {
      "cell_type": "markdown",
      "source": [
        "Now, investigate effect of batch size on accuracies."
      ],
      "metadata": {
        "id": "Wn4moYVDuS_h"
      }
    },
    {
      "cell_type": "code",
      "source": [
        "lrs = [0.01, 0.02, 0.05, 0.1]"
      ],
      "metadata": {
        "id": "wbKztvJ8uYYV"
      },
      "execution_count": null,
      "outputs": []
    },
    {
      "cell_type": "code",
      "source": [
        "batch_sizes = [16, 32, 64, 128]"
      ],
      "metadata": {
        "id": "001t5ucNuX5Q"
      },
      "execution_count": null,
      "outputs": []
    },
    {
      "cell_type": "code",
      "source": [
        "table = [[\"learning rate\", \"batch size\", \"training accuracy\", \"validation accuracy\"]]\n",
        "\n",
        "for i in range(len(lrs)):\n",
        "  for j in range(len(batch_sizes)):\n",
        "    model = MLP(num_hidden_layers = 2, num_hidden_units = [128,128])\n",
        "    GDO = GradientDescentOptimizer(model, lrs[i], 0)\n",
        "    model.fit(GDO, X_train_split, y_train_split, GRADIENT_STEPS, batch_sizes[j])\n",
        "    y_train_pred = model.predict(X_train_split)\n",
        "    y_val_pred = model.predict(X_val)\n",
        "\n",
        "    row = []\n",
        "    row.append(lrs[i])\n",
        "    row.append(batch_sizes[j])\n",
        "    row.append(model.evaluate_acc(y_train_pred, y_train_split))\n",
        "    row.append(model.evaluate_acc(y_val_pred, y_val))\n",
        "\n",
        "    table.append(row.copy())\n",
        "\n",
        "print(tabulate(table, headers='firstrow', tablefmt='fancy_grid'))"
      ],
      "metadata": {
        "colab": {
          "base_uri": "https://localhost:8080/"
        },
        "outputId": "0bb60241-49a4-4288-d0d2-8efa67a368bf",
        "id": "MbxMUlMhx4NS"
      },
      "execution_count": null,
      "outputs": [
        {
          "output_type": "stream",
          "name": "stderr",
          "text": [
            "100%|██████████| 500/500 [00:25<00:00, 19.98it/s]\n",
            "100%|██████████| 500/500 [00:39<00:00, 12.65it/s]\n",
            "100%|██████████| 500/500 [01:15<00:00,  6.63it/s]\n",
            "100%|██████████| 500/500 [02:20<00:00,  3.55it/s]\n",
            "100%|██████████| 500/500 [00:21<00:00, 22.73it/s]\n",
            "100%|██████████| 500/500 [00:38<00:00, 12.91it/s]\n",
            "100%|██████████| 500/500 [01:13<00:00,  6.77it/s]\n",
            "100%|██████████| 500/500 [02:22<00:00,  3.51it/s]\n",
            "100%|██████████| 500/500 [00:21<00:00, 22.81it/s]\n",
            "100%|██████████| 500/500 [00:39<00:00, 12.75it/s]\n",
            "100%|██████████| 500/500 [01:15<00:00,  6.61it/s]\n",
            "100%|██████████| 500/500 [02:21<00:00,  3.54it/s]\n",
            "100%|██████████| 500/500 [00:23<00:00, 21.11it/s]\n",
            "100%|██████████| 500/500 [00:40<00:00, 12.40it/s]\n",
            "100%|██████████| 500/500 [01:14<00:00,  6.67it/s]\n",
            "100%|██████████| 500/500 [02:23<00:00,  3.49it/s]\n"
          ]
        },
        {
          "output_type": "stream",
          "name": "stdout",
          "text": [
            "╒═════════════════╤══════════════╤═════════════════════╤═══════════════════════╕\n",
            "│   learning rate │   batch size │   training accuracy │   validation accuracy │\n",
            "╞═════════════════╪══════════════╪═════════════════════╪═══════════════════════╡\n",
            "│            0.01 │           16 │            0.725275 │               0.7204  │\n",
            "├─────────────────┼──────────────┼─────────────────────┼───────────────────────┤\n",
            "│            0.01 │           32 │            0.761875 │               0.7532  │\n",
            "├─────────────────┼──────────────┼─────────────────────┼───────────────────────┤\n",
            "│            0.01 │           64 │            0.769775 │               0.76085 │\n",
            "├─────────────────┼──────────────┼─────────────────────┼───────────────────────┤\n",
            "│            0.01 │          128 │            0.76025  │               0.7499  │\n",
            "├─────────────────┼──────────────┼─────────────────────┼───────────────────────┤\n",
            "│            0.02 │           16 │            0.68915  │               0.68455 │\n",
            "├─────────────────┼──────────────┼─────────────────────┼───────────────────────┤\n",
            "│            0.02 │           32 │            0.74415  │               0.7373  │\n",
            "├─────────────────┼──────────────┼─────────────────────┼───────────────────────┤\n",
            "│            0.02 │           64 │            0.7458   │               0.73705 │\n",
            "├─────────────────┼──────────────┼─────────────────────┼───────────────────────┤\n",
            "│            0.02 │          128 │            0.7694   │               0.7528  │\n",
            "├─────────────────┼──────────────┼─────────────────────┼───────────────────────┤\n",
            "│            0.05 │           16 │            0.54275  │               0.54355 │\n",
            "├─────────────────┼──────────────┼─────────────────────┼───────────────────────┤\n",
            "│            0.05 │           32 │            0.623625 │               0.61825 │\n",
            "├─────────────────┼──────────────┼─────────────────────┼───────────────────────┤\n",
            "│            0.05 │           64 │            0.6706   │               0.6637  │\n",
            "├─────────────────┼──────────────┼─────────────────────┼───────────────────────┤\n",
            "│            0.05 │          128 │            0.692375 │               0.682   │\n",
            "├─────────────────┼──────────────┼─────────────────────┼───────────────────────┤\n",
            "│            0.1  │           16 │            0.216875 │               0.21985 │\n",
            "├─────────────────┼──────────────┼─────────────────────┼───────────────────────┤\n",
            "│            0.1  │           32 │            0.4815   │               0.48095 │\n",
            "├─────────────────┼──────────────┼─────────────────────┼───────────────────────┤\n",
            "│            0.1  │           64 │            0.54745  │               0.5475  │\n",
            "├─────────────────┼──────────────┼─────────────────────┼───────────────────────┤\n",
            "│            0.1  │          128 │            0.605525 │               0.59735 │\n",
            "╘═════════════════╧══════════════╧═════════════════════╧═══════════════════════╛\n"
          ]
        }
      ]
    },
    {
      "cell_type": "markdown",
      "source": [
        "It can be seen that the best combination of learning rate and batch size is 0.01 and 64."
      ],
      "metadata": {
        "id": "rWGxTBr5ybwp"
      }
    },
    {
      "cell_type": "code",
      "source": [
        "model = MLP(num_hidden_layers = 2, num_hidden_units = [128,128])\n",
        "GDO = GradientDescentOptimizer(model, 0.01, 0)\n",
        "model.fit(GDO, X_train_split, y_train_split, GRADIENT_STEPS, 64, show_loss = True)\n",
        "y_test_pred = model.predict(X_test)\n",
        "model.evaluate_acc(y_test_pred, y_test)"
      ],
      "metadata": {
        "colab": {
          "base_uri": "https://localhost:8080/",
          "height": 314
        },
        "outputId": "e319e291-e5c0-48da-db18-11d4bc24fc68",
        "id": "k93xoBVQ61EY"
      },
      "execution_count": null,
      "outputs": [
        {
          "output_type": "stream",
          "name": "stderr",
          "text": [
            "100%|██████████| 500/500 [01:15<00:00,  6.66it/s]\n"
          ]
        },
        {
          "output_type": "execute_result",
          "data": {
            "text/plain": [
              "0.7549"
            ]
          },
          "metadata": {},
          "execution_count": 27
        },
        {
          "output_type": "display_data",
          "data": {
            "text/plain": [
              "<Figure size 432x288 with 1 Axes>"
            ],
            "image/png": "[encoded data removed]"
          },
          "metadata": {
            "needs_background": "light"
          }
        }
      ]
    },
    {
      "cell_type": "markdown",
      "source": [
        "Up until now, we have identified some properties that give the best performance: 1 or 2 layers, ReLU activation, L2 regularization of lambda = 0.2, batch size 64, learning rate 0.01 or 0.02. The best testing accuracy is still maintained at about 78% by the 1 layer ReLU with learning rate 0.5 without regularization and batch size = 100, but the loss during testing fluctuates a lot for that. Another model that is quite promising and with much stabler loss is 2 layers ReLU, L2 regularization of lambda = 0.2, batch size 100, learning rate 0.02 with testing accuracy about 77%. Let us try combinations of these."
      ],
      "metadata": {
        "id": "xF_1bJRl85ek"
      }
    },
    {
      "cell_type": "code",
      "source": [
        "model = MLP(num_hidden_layers = 1, num_hidden_units = [128])\n",
        "GDO = GradientDescentOptimizer(model, 0.01, 0.2)\n",
        "model.fit(GDO, X_train_split, y_train_split, 500, 64, show_loss = True)\n",
        "y_test_pred = model.predict(X_test)\n",
        "model.evaluate_acc(y_test_pred, y_test)"
      ],
      "metadata": {
        "colab": {
          "base_uri": "https://localhost:8080/",
          "height": 314
        },
        "outputId": "b9f53491-f009-45e0-88ef-a930213b5335",
        "id": "7co29SR89U89"
      },
      "execution_count": null,
      "outputs": [
        {
          "output_type": "stream",
          "name": "stderr",
          "text": [
            "100%|██████████| 500/500 [01:03<00:00,  7.85it/s]\n"
          ]
        },
        {
          "output_type": "execute_result",
          "data": {
            "text/plain": [
              "0.688"
            ]
          },
          "metadata": {},
          "execution_count": 28
        },
        {
          "output_type": "display_data",
          "data": {
            "text/plain": [
              "<Figure size 432x288 with 1 Axes>"
            ],
            "image/png": "[encoded data removed]"
          },
          "metadata": {
            "needs_background": "light"
          }
        }
      ]
    },
    {
      "cell_type": "code",
      "source": [
        "model = MLP(num_hidden_layers = 1, num_hidden_units = [128])\n",
        "GDO = GradientDescentOptimizer(model, 0.02, 0.2)\n",
        "model.fit(GDO, X_train_split, y_train_split, 500, 64, show_loss = True)\n",
        "y_test_pred = model.predict(X_test)\n",
        "model.evaluate_acc(y_test_pred, y_test)"
      ],
      "metadata": {
        "colab": {
          "base_uri": "https://localhost:8080/",
          "height": 314
        },
        "outputId": "e37c6c7a-a052-4060-df7a-10bf716a1a91",
        "id": "ZNNxEUu7-X6s"
      },
      "execution_count": null,
      "outputs": [
        {
          "output_type": "stream",
          "name": "stderr",
          "text": [
            "100%|██████████| 500/500 [01:03<00:00,  7.88it/s]\n"
          ]
        },
        {
          "output_type": "execute_result",
          "data": {
            "text/plain": [
              "0.7573"
            ]
          },
          "metadata": {},
          "execution_count": 29
        },
        {
          "output_type": "display_data",
          "data": {
            "text/plain": [
              "<Figure size 432x288 with 1 Axes>"
            ],
            "image/png": "[encoded data removed]"
          },
          "metadata": {
            "needs_background": "light"
          }
        }
      ]
    },
    {
      "cell_type": "code",
      "source": [
        "model = MLP(num_hidden_layers = 2, num_hidden_units = [128,128])\n",
        "GDO = GradientDescentOptimizer(model, 0.01, 0.2)\n",
        "model.fit(GDO, X_train_split, y_train_split, 500, 64, show_loss = True)\n",
        "y_test_pred = model.predict(X_test)\n",
        "model.evaluate_acc(y_test_pred, y_test)"
      ],
      "metadata": {
        "colab": {
          "base_uri": "https://localhost:8080/",
          "height": 314
        },
        "outputId": "17385114-4545-4399-ef72-d683b8b5ce30",
        "id": "i3ailuGf-yV1"
      },
      "execution_count": null,
      "outputs": [
        {
          "output_type": "stream",
          "name": "stderr",
          "text": [
            "100%|██████████| 500/500 [01:16<00:00,  6.50it/s]\n"
          ]
        },
        {
          "output_type": "execute_result",
          "data": {
            "text/plain": [
              "0.7488"
            ]
          },
          "metadata": {},
          "execution_count": 30
        },
        {
          "output_type": "display_data",
          "data": {
            "text/plain": [
              "<Figure size 432x288 with 1 Axes>"
            ],
            "image/png": "[encoded data removed]"
          },
          "metadata": {
            "needs_background": "light"
          }
        }
      ]
    },
    {
      "cell_type": "code",
      "source": [
        "model = MLP(num_hidden_layers = 2, num_hidden_units = [128,128])\n",
        "GDO = GradientDescentOptimizer(model, 0.02, 0.2)\n",
        "model.fit(GDO, X_train_split, y_train_split, 500, 64, show_loss = True)\n",
        "y_test_pred = model.predict(X_test)\n",
        "model.evaluate_acc(y_test_pred, y_test)"
      ],
      "metadata": {
        "colab": {
          "base_uri": "https://localhost:8080/",
          "height": 314
        },
        "outputId": "66bc138b-d9fc-47cd-9a42-d327e1fd3c1d",
        "id": "LZjX56Hn_ei8"
      },
      "execution_count": null,
      "outputs": [
        {
          "output_type": "stream",
          "name": "stderr",
          "text": [
            "100%|██████████| 500/500 [01:16<00:00,  6.50it/s]\n"
          ]
        },
        {
          "output_type": "execute_result",
          "data": {
            "text/plain": [
              "0.7734"
            ]
          },
          "metadata": {},
          "execution_count": 31
        },
        {
          "output_type": "display_data",
          "data": {
            "text/plain": [
              "<Figure size 432x288 with 1 Axes>"
            ],
            "image/png": "[encoded data removed]"
          },
          "metadata": {
            "needs_background": "light"
          }
        }
      ]
    },
    {
      "cell_type": "markdown",
      "source": [
        "This one seems quite promising, let us try with different batch sizes."
      ],
      "metadata": {
        "id": "itQ6qTPAAM0u"
      }
    },
    {
      "cell_type": "code",
      "source": [
        "model = MLP(num_hidden_layers = 2, num_hidden_units = [128,128])\n",
        "GDO = GradientDescentOptimizer(model, 0.02, 0.2)\n",
        "model.fit(GDO, X_train_split, y_train_split, 500, 32, show_loss = True)\n",
        "y_test_pred = model.predict(X_test)\n",
        "model.evaluate_acc(y_test_pred, y_test)"
      ],
      "metadata": {
        "colab": {
          "base_uri": "https://localhost:8080/",
          "height": 318
        },
        "outputId": "4cbf5670-b210-44ad-d4dd-115df9c9b65e",
        "id": "fsd4-lv_AB5V"
      },
      "execution_count": null,
      "outputs": [
        {
          "output_type": "stream",
          "name": "stderr",
          "text": [
            "100%|██████████| 500/500 [00:43<00:00, 11.57it/s]\n"
          ]
        },
        {
          "output_type": "execute_result",
          "data": {
            "text/plain": [
              "0.7716"
            ]
          },
          "metadata": {},
          "execution_count": 32
        },
        {
          "output_type": "display_data",
          "data": {
            "text/plain": [
              "<Figure size 432x288 with 1 Axes>"
            ],
            "image/png": "[encoded data removed]"
          },
          "metadata": {
            "needs_background": "light"
          }
        }
      ]
    },
    {
      "cell_type": "code",
      "source": [
        "model = MLP(num_hidden_layers = 2, num_hidden_units = [128,128])\n",
        "GDO = GradientDescentOptimizer(model, 0.02, 0.2)\n",
        "model.fit(GDO, X_train_split, y_train_split, 500, 128, show_loss = True)\n",
        "y_test_pred = model.predict(X_test)\n",
        "model.evaluate_acc(y_test_pred, y_test)"
      ],
      "metadata": {
        "colab": {
          "base_uri": "https://localhost:8080/",
          "height": 314
        },
        "outputId": "8666da8a-c5de-4186-a1c5-18ca8b6ac03c",
        "id": "OnDzlTY8Al2j"
      },
      "execution_count": null,
      "outputs": [
        {
          "output_type": "stream",
          "name": "stderr",
          "text": [
            "100%|██████████| 500/500 [02:30<00:00,  3.33it/s]\n"
          ]
        },
        {
          "output_type": "execute_result",
          "data": {
            "text/plain": [
              "0.7734"
            ]
          },
          "metadata": {},
          "execution_count": 33
        },
        {
          "output_type": "display_data",
          "data": {
            "text/plain": [
              "<Figure size 432x288 with 1 Axes>"
            ],
            "image/png": "[encoded data removed]"
          },
          "metadata": {
            "needs_background": "light"
          }
        }
      ]
    },
    {
      "cell_type": "markdown",
      "source": [
        "As nothing is exceeding the highest test accuracies from the first place, let us carry the two initially best models into 3.7 for now. Note that tests in 3.8.1 will uncover a better MLP configuration than this one."
      ],
      "metadata": {
        "id": "5it2pIaIE0fG"
      }
    },
    {
      "cell_type": "markdown",
      "source": [
        "## 3.7 Report your findings either in the form of a table or a plot in the write-up. Include in your colab notebook plots of the testing and training accuracy of the MLPs/ConvNet as a function of training epochs."
      ],
      "metadata": {
        "id": "pjAisWTSugFF"
      }
    },
    {
      "cell_type": "code",
      "source": [
        "epochs = [200, 250, 300, 350, 400, 450, 500]"
      ],
      "metadata": {
        "id": "1KKaL4bKA2dy"
      },
      "execution_count": null,
      "outputs": []
    },
    {
      "cell_type": "code",
      "source": [
        "train_accs = []\n",
        "test_accs = []\n",
        "\n",
        "for i in range(len(epochs)):\n",
        "  model = MLP(num_hidden_layers = 1, num_hidden_units = [128])\n",
        "  GDO = GradientDescentOptimizer(model, 0.5, 0)\n",
        "  model.fit(GDO, X_train_split, y_train_split, epochs[i], 100)\n",
        "  y_train_pred = model.predict(X_train_split)\n",
        "  y_test_pred = model.predict(X_test)\n",
        "  train_accs.append(model.evaluate_acc(y_train_pred, y_train_split))\n",
        "  test_accs.append(model.evaluate_acc(y_test_pred, y_test))\n",
        "\n",
        "xi = list(range(len(epochs)))\n",
        "plt.plot(xi, train_accs, label='Training Accuracy')\n",
        "plt.plot(xi, test_accs, label='Testing Accuracy')\n",
        "plt.xticks(xi, epochs)\n",
        "plt.legend()\n",
        "plt.title('Training and Testing Accuracy wrt epoch number, single layer MLP')\n",
        "plt.show()"
      ],
      "metadata": {
        "colab": {
          "base_uri": "https://localhost:8080/",
          "height": 403
        },
        "id": "jyzxYlXrMlof",
        "outputId": "e18f5d67-c9d3-4ee9-cf73-50be81b56f4e"
      },
      "execution_count": null,
      "outputs": [
        {
          "output_type": "stream",
          "name": "stderr",
          "text": [
            "100%|██████████| 200/200 [00:37<00:00,  5.30it/s]\n",
            "100%|██████████| 250/250 [00:48<00:00,  5.11it/s]\n",
            "100%|██████████| 300/300 [00:56<00:00,  5.34it/s]\n",
            "100%|██████████| 350/350 [01:05<00:00,  5.32it/s]\n",
            "100%|██████████| 400/400 [01:15<00:00,  5.30it/s]\n",
            "100%|██████████| 450/450 [01:26<00:00,  5.23it/s]\n",
            "100%|██████████| 500/500 [01:33<00:00,  5.35it/s]\n"
          ]
        },
        {
          "output_type": "display_data",
          "data": {
            "text/plain": [
              "<Figure size 432x288 with 1 Axes>"
            ],
            "image/png": "[encoded data removed]"
          },
          "metadata": {
            "needs_background": "light"
          }
        }
      ]
    },
    {
      "cell_type": "code",
      "source": [
        "train_accs = []\n",
        "test_accs = []\n",
        "\n",
        "for i in range(len(epochs)):\n",
        "  model = MLP(num_hidden_layers = 2, num_hidden_units = [128,128])\n",
        "  GDO = GradientDescentOptimizer(model, 0.02, 0.2)\n",
        "  model.fit(GDO, X_train_split, y_train_split, epochs[i], 100)\n",
        "  y_train_pred = model.predict(X_train_split)\n",
        "  y_test_pred = model.predict(X_test)\n",
        "  train_accs.append(model.evaluate_acc(y_train_pred, y_train_split))\n",
        "  test_accs.append(model.evaluate_acc(y_test_pred, y_test))\n",
        "\n",
        "xi = list(range(len(epochs)))\n",
        "plt.plot(xi, train_accs, label='Training Accuracy')\n",
        "plt.plot(xi, test_accs, label='Testing Accuracy')\n",
        "plt.xticks(xi, epochs)\n",
        "plt.legend()\n",
        "plt.title('Training and Testing Accuracy wrt epoch number, single layer MLP')\n",
        "plt.show()"
      ],
      "metadata": {
        "colab": {
          "base_uri": "https://localhost:8080/",
          "height": 403
        },
        "outputId": "d709bd67-6af1-40d1-dbc8-ffbbf0d7335f",
        "id": "-pTdwjtuEorP"
      },
      "execution_count": null,
      "outputs": [
        {
          "output_type": "stream",
          "name": "stderr",
          "text": [
            "100%|██████████| 200/200 [00:46<00:00,  4.34it/s]\n",
            "100%|██████████| 250/250 [00:55<00:00,  4.53it/s]\n",
            "100%|██████████| 300/300 [01:07<00:00,  4.42it/s]\n",
            "100%|██████████| 350/350 [01:17<00:00,  4.54it/s]\n",
            "100%|██████████| 400/400 [01:29<00:00,  4.46it/s]\n",
            "100%|██████████| 450/450 [01:38<00:00,  4.55it/s]\n",
            "100%|██████████| 500/500 [01:49<00:00,  4.55it/s]\n"
          ]
        },
        {
          "output_type": "display_data",
          "data": {
            "text/plain": [
              "<Figure size 432x288 with 1 Axes>"
            ],
            "image/png": "[encoded data removed]"
          },
          "metadata": {
            "needs_background": "light"
          }
        }
      ]
    },
    {
      "cell_type": "markdown",
      "source": [
        "Testing a 1-layer MLP with layer width 256 and running for 2500 epochs"
      ],
      "metadata": {
        "id": "jJFhMS6U39WV"
      }
    },
    {
      "cell_type": "code",
      "source": [
        "epochs = [600, 800, 1000, 1500, 2000, 2500]"
      ],
      "metadata": {
        "id": "LCZnqE7zIZRH"
      },
      "execution_count": null,
      "outputs": []
    },
    {
      "cell_type": "code",
      "source": [
        "train_accs = []\n",
        "test_accs = []\n",
        "\n",
        "for i in range(len(epochs)):\n",
        "  model = MLP(num_hidden_layers = 1, num_hidden_units = [256])\n",
        "  GDO = GradientDescentOptimizer(model, 0.5, 0.001)\n",
        "  model.fit(GDO, X_train_split, y_train_split, epochs[i], 128)\n",
        "  y_train_pred = model.predict(X_train_split)\n",
        "  y_test_pred = model.predict(X_test)\n",
        "  train_accs.append(model.evaluate_acc(y_train_pred, y_train_split))\n",
        "  test_accs.append(model.evaluate_acc(y_test_pred, y_test))\n",
        "\n",
        "xi = list(range(len(epochs)))\n",
        "plt.plot(xi, train_accs, label='Training Accuracy')\n",
        "plt.plot(xi, test_accs, label='Testing Accuracy')\n",
        "plt.xticks(xi, epochs)\n",
        "plt.legend()\n",
        "plt.title('Training and Testing Accuracy wrt epoch number, single layer MLP')\n",
        "plt.show()"
      ],
      "metadata": {
        "colab": {
          "base_uri": "https://localhost:8080/",
          "height": 385
        },
        "outputId": "519c1ea2-f767-4116-d86e-b074c0d2eea7",
        "id": "0fjQ5WLjIZRH"
      },
      "execution_count": null,
      "outputs": [
        {
          "output_type": "stream",
          "name": "stderr",
          "text": [
            "100%|██████████| 600/600 [04:40<00:00,  2.14it/s]\n",
            "100%|██████████| 800/800 [06:28<00:00,  2.06it/s]\n",
            "100%|██████████| 1000/1000 [08:13<00:00,  2.03it/s]\n",
            "100%|██████████| 1500/1500 [12:18<00:00,  2.03it/s]\n",
            "100%|██████████| 2000/2000 [16:15<00:00,  2.05it/s]\n",
            "100%|██████████| 2500/2500 [20:08<00:00,  2.07it/s]\n"
          ]
        },
        {
          "output_type": "display_data",
          "data": {
            "text/plain": [
              "<Figure size 432x288 with 1 Axes>"
            ],
            "image/png": "[encoded data removed]"
          },
          "metadata": {
            "needs_background": "light"
          }
        }
      ]
    },
    {
      "cell_type": "code",
      "execution_count": null,
      "metadata": {
        "colab": {
          "base_uri": "https://localhost:8080/",
          "height": 316
        },
        "id": "aZ4tbmzNLJQA",
        "outputId": "7f242ac8-8fc2-4e94-d935-269d734aa346"
      },
      "outputs": [
        {
          "output_type": "stream",
          "name": "stderr",
          "text": [
            "100%|██████████| 2500/2500 [22:46<00:00,  1.83it/s]\n"
          ]
        },
        {
          "output_type": "execute_result",
          "data": {
            "text/plain": [
              "0.8572"
            ]
          },
          "metadata": {},
          "execution_count": 14
        },
        {
          "output_type": "display_data",
          "data": {
            "text/plain": [
              "<Figure size 432x288 with 1 Axes>"
            ],
            "image/png": "[encoded data removed]"
          },
          "metadata": {
            "needs_background": "light"
          }
        }
      ],
      "source": [
        "GRADIENT_STEPS = 2500 # This is equivalent to epochs\n",
        "BATCH_SIZE = 128\n",
        "\n",
        "model = MLP(num_hidden_layers = 1, num_hidden_units = [256])\n",
        "GDO = GradientDescentOptimizer(model, 0.5, 0.001)\n",
        "model.fit(GDO, X_train, y_train, GRADIENT_STEPS, BATCH_SIZE, show_loss = True)\n",
        "#model.check_all_grad(X_train, activation_fn)\n",
        "y_test_pred = model.predict(X_test)\n",
        "model.evaluate_acc(y_test_pred, y_test)"
      ]
    },
    {
      "cell_type": "markdown",
      "source": [
        "It can be seen that the 2 layer model with regularization starts to exhibit overfitting at about 400-450 epochs. However, with the single layer model that has high learning rate and some regularization, no overfitting is evident at even 2500 epochs, and the accuracies stay extremely high. Thus, this single layer MLP configuration is a really good one."
      ],
      "metadata": {
        "id": "7lmagmCuKPQ1"
      }
    },
    {
      "cell_type": "markdown",
      "source": [
        "## 3.8 More investigations"
      ],
      "metadata": {
        "id": "W-ikJ4lQvamZ"
      }
    },
    {
      "cell_type": "markdown",
      "source": [
        "### 3.8.1 Investigate the effect of the width (number of units in the hidden layers) of the MLP on its test accuracy"
      ],
      "metadata": {
        "id": "P4OFI3cgvgKp"
      }
    },
    {
      "cell_type": "code",
      "source": [
        "widths = [32, 64, 128, 256, 512]"
      ],
      "metadata": {
        "id": "AA6N1btbKFkt"
      },
      "execution_count": null,
      "outputs": []
    },
    {
      "cell_type": "code",
      "source": [
        "train_accs = []\n",
        "val_accs = []\n",
        "\n",
        "for i in range(len(widths)):\n",
        "  model = MLP(num_hidden_layers = 2, num_hidden_units = [widths[i],widths[i]])\n",
        "  GDO = GradientDescentOptimizer(model, 0.02, 0.2)\n",
        "  model.fit(GDO, X_train_split, y_train_split, 400, 100)\n",
        "  y_train_pred = model.predict(X_train_split)\n",
        "  y_val_pred = model.predict(X_val)\n",
        "  train_accs.append(model.evaluate_acc(y_train_pred, y_train_split))\n",
        "  val_accs.append(model.evaluate_acc(y_val_pred, y_val))"
      ],
      "metadata": {
        "colab": {
          "base_uri": "https://localhost:8080/"
        },
        "outputId": "b6a6fed1-0e8d-44a0-8455-28065b261d71",
        "id": "NOfX4NU5Kb-9"
      },
      "execution_count": null,
      "outputs": [
        {
          "output_type": "stream",
          "name": "stderr",
          "text": [
            "100%|██████████| 400/400 [00:21<00:00, 18.40it/s]\n",
            "100%|██████████| 400/400 [00:46<00:00,  8.67it/s]\n",
            "100%|██████████| 400/400 [01:28<00:00,  4.53it/s]\n",
            "100%|██████████| 400/400 [03:18<00:00,  2.02it/s]\n",
            "100%|██████████| 400/400 [08:33<00:00,  1.28s/it]\n"
          ]
        }
      ]
    },
    {
      "cell_type": "code",
      "source": [
        "xi = list(range(len(widths)))\n",
        "plt.plot(xi, train_accs, label='Training Accuracy')\n",
        "plt.plot(xi, val_accs, label='Validation Accuracy')\n",
        "plt.xticks(xi, widths)\n",
        "plt.legend()\n",
        "plt.title('Training and Validation Accuracy wrt layer width, 2 layer MLP with regularization')\n",
        "plt.show()"
      ],
      "metadata": {
        "colab": {
          "base_uri": "https://localhost:8080/",
          "height": 281
        },
        "id": "mS2Py9c_MwWk",
        "outputId": "0349de38-9ad6-4726-d09b-851d4a6d56ea"
      },
      "execution_count": null,
      "outputs": [
        {
          "output_type": "display_data",
          "data": {
            "text/plain": [
              "<Figure size 432x288 with 1 Axes>"
            ],
            "image/png": "[encoded data removed]"
          },
          "metadata": {
            "needs_background": "light"
          }
        }
      ]
    },
    {
      "cell_type": "code",
      "source": [
        "model = MLP(num_hidden_layers = 2, num_hidden_units = [512,512])\n",
        "GDO = GradientDescentOptimizer(model, 0.02, 0.2)\n",
        "model.fit(GDO, X_train_split, y_train_split, 400, 100, show_loss = True)\n",
        "y_test_pred = model.predict(X_test)\n",
        "model.evaluate_acc(y_test_pred, y_test)"
      ],
      "metadata": {
        "colab": {
          "base_uri": "https://localhost:8080/",
          "height": 314
        },
        "outputId": "7daa59e7-ff85-439d-c7cc-c6986662aeb9",
        "id": "LkOtDGaXRv2n"
      },
      "execution_count": null,
      "outputs": [
        {
          "output_type": "stream",
          "name": "stderr",
          "text": [
            "100%|██████████| 400/400 [08:37<00:00,  1.29s/it]\n"
          ]
        },
        {
          "output_type": "execute_result",
          "data": {
            "text/plain": [
              "0.803"
            ]
          },
          "metadata": {},
          "execution_count": 57
        },
        {
          "output_type": "display_data",
          "data": {
            "text/plain": [
              "<Figure size 432x288 with 1 Axes>"
            ],
            "image/png": "[encoded data removed]"
          },
          "metadata": {
            "needs_background": "light"
          }
        }
      ]
    },
    {
      "cell_type": "markdown",
      "source": [
        "It can be seen that increasing layer width has a significant effect on impoving accuracies. The only problem is that, doubling layer width means almost tripled time, but the accuracy can only be improved by 2% or so."
      ],
      "metadata": {
        "id": "bEFcnCcTRmjM"
      }
    },
    {
      "cell_type": "markdown",
      "source": [
        "### 3.8.2 Investigate the effect of the ConvNets’ hyperparameters related to their convolutional layers (number of filters, filter size, stride, padding, . . . ) on its test accuracy."
      ],
      "metadata": {
        "id": "b-HBPO3zvor9"
      }
    },
    {
      "cell_type": "markdown",
      "source": [
        "### Filter Size"
      ],
      "metadata": {
        "id": "eNqkriT5O9xG"
      }
    },
    {
      "cell_type": "markdown",
      "source": [
        "Filter Size set to 1"
      ],
      "metadata": {
        "id": "fI8pE4aGOyLV"
      }
    },
    {
      "cell_type": "code",
      "source": [
        "model = keras.Sequential([\n",
        "  keras.layers.Rescaling(1./255, input_shape=(28, 28, 1)),\n",
        "  keras.layers.Conv2D(32, 1, padding='same', activation='relu'),\n",
        "  keras.layers.MaxPooling2D(),\n",
        "  keras.layers.Conv2D(64, 1, padding='same', activation='relu'),\n",
        "  keras.layers.MaxPooling2D(),\n",
        "  keras.layers.Flatten(),\n",
        "  keras.layers.Dense(128, activation='relu'),\n",
        "  keras.layers.Dense(128, activation='relu'),\n",
        "  keras.layers.Dense(10)\n",
        "])\n",
        "model.summary()\n",
        "\n",
        "model.compile(optimizer='adam', loss=keras.losses.SparseCategoricalCrossentropy(from_logits=True), metrics=['accuracy'])\n",
        "\n",
        "model.fit(x=x_train_cnn, y=y_train_cnn, validation_data=(x_val_cnn, y_val_cnn), epochs=3)"
      ],
      "metadata": {
        "colab": {
          "base_uri": "https://localhost:8080/"
        },
        "outputId": "ebfa8588-1e2f-4b3f-a19c-3a321d40e1ac",
        "id": "LIXJqrwsO1wJ"
      },
      "execution_count": null,
      "outputs": [
        {
          "output_type": "stream",
          "name": "stdout",
          "text": [
            "Model: \"sequential_1\"\n",
            "_________________________________________________________________\n",
            " Layer (type)                Output Shape              Param #   \n",
            "=================================================================\n",
            " rescaling_1 (Rescaling)     (None, 28, 28, 1)         0         \n",
            "                                                                 \n",
            " conv2d_2 (Conv2D)           (None, 28, 28, 32)        64        \n",
            "                                                                 \n",
            " max_pooling2d_2 (MaxPooling  (None, 14, 14, 32)       0         \n",
            " 2D)                                                             \n",
            "                                                                 \n",
            " conv2d_3 (Conv2D)           (None, 14, 14, 64)        2112      \n",
            "                                                                 \n",
            " max_pooling2d_3 (MaxPooling  (None, 7, 7, 64)         0         \n",
            " 2D)                                                             \n",
            "                                                                 \n",
            " flatten_1 (Flatten)         (None, 3136)              0         \n",
            "                                                                 \n",
            " dense_3 (Dense)             (None, 128)               401536    \n",
            "                                                                 \n",
            " dense_4 (Dense)             (None, 128)               16512     \n",
            "                                                                 \n",
            " dense_5 (Dense)             (None, 10)                1290      \n",
            "                                                                 \n",
            "=================================================================\n",
            "Total params: 421,514\n",
            "Trainable params: 421,514\n",
            "Non-trainable params: 0\n",
            "_________________________________________________________________\n",
            "Epoch 1/3\n",
            "1875/1875 [==============================] - 50s 26ms/step - loss: 0.5759 - accuracy: 0.7858 - val_loss: 0.4780 - val_accuracy: 0.8193\n",
            "Epoch 2/3\n",
            "1875/1875 [==============================] - 48s 25ms/step - loss: 0.4118 - accuracy: 0.8465 - val_loss: 0.3923 - val_accuracy: 0.8555\n",
            "Epoch 3/3\n",
            "1875/1875 [==============================] - 48s 25ms/step - loss: 0.3638 - accuracy: 0.8647 - val_loss: 0.3788 - val_accuracy: 0.8571\n"
          ]
        },
        {
          "output_type": "execute_result",
          "data": {
            "text/plain": [
              "<keras.callbacks.History at 0x7fc10ce80790>"
            ]
          },
          "metadata": {},
          "execution_count": 63
        }
      ]
    },
    {
      "cell_type": "markdown",
      "source": [
        "Filter Size set to 3"
      ],
      "metadata": {
        "id": "0MyY4TuIO7fJ"
      }
    },
    {
      "cell_type": "code",
      "source": [
        "model = keras.Sequential([\n",
        "  keras.layers.Rescaling(1./255, input_shape=(28, 28, 1)),\n",
        "  keras.layers.Conv2D(32, 3, padding='same', activation='relu'),\n",
        "  keras.layers.MaxPooling2D(),\n",
        "  keras.layers.Conv2D(64, 3, padding='same', activation='relu'),\n",
        "  keras.layers.MaxPooling2D(),\n",
        "  keras.layers.Flatten(),\n",
        "  keras.layers.Dense(128, activation='relu'),\n",
        "  keras.layers.Dense(128, activation='relu'),\n",
        "  keras.layers.Dense(10)\n",
        "])\n",
        "model.summary()\n",
        "\n",
        "model.compile(optimizer='adam', loss=keras.losses.SparseCategoricalCrossentropy(from_logits=True), metrics=['accuracy'])\n",
        "\n",
        "model.fit(x=x_train_cnn, y=y_train_cnn, validation_data=(x_val_cnn, y_val_cnn), epochs=3)"
      ],
      "metadata": {
        "colab": {
          "base_uri": "https://localhost:8080/"
        },
        "outputId": "bf7dec7b-e40b-4f5b-a037-4acc9435db2e",
        "id": "bLCCDoqBPEur"
      },
      "execution_count": null,
      "outputs": [
        {
          "output_type": "stream",
          "name": "stdout",
          "text": [
            "Model: \"sequential_2\"\n",
            "_________________________________________________________________\n",
            " Layer (type)                Output Shape              Param #   \n",
            "=================================================================\n",
            " rescaling_2 (Rescaling)     (None, 28, 28, 1)         0         \n",
            "                                                                 \n",
            " conv2d_4 (Conv2D)           (None, 28, 28, 32)        320       \n",
            "                                                                 \n",
            " max_pooling2d_4 (MaxPooling  (None, 14, 14, 32)       0         \n",
            " 2D)                                                             \n",
            "                                                                 \n",
            " conv2d_5 (Conv2D)           (None, 14, 14, 64)        18496     \n",
            "                                                                 \n",
            " max_pooling2d_5 (MaxPooling  (None, 7, 7, 64)         0         \n",
            " 2D)                                                             \n",
            "                                                                 \n",
            " flatten_2 (Flatten)         (None, 3136)              0         \n",
            "                                                                 \n",
            " dense_6 (Dense)             (None, 128)               401536    \n",
            "                                                                 \n",
            " dense_7 (Dense)             (None, 128)               16512     \n",
            "                                                                 \n",
            " dense_8 (Dense)             (None, 10)                1290      \n",
            "                                                                 \n",
            "=================================================================\n",
            "Total params: 438,154\n",
            "Trainable params: 438,154\n",
            "Non-trainable params: 0\n",
            "_________________________________________________________________\n",
            "Epoch 1/3\n",
            "1875/1875 [==============================] - 93s 50ms/step - loss: 0.4123 - accuracy: 0.8512 - val_loss: 0.3318 - val_accuracy: 0.8781\n",
            "Epoch 2/3\n",
            "1875/1875 [==============================] - 94s 50ms/step - loss: 0.2674 - accuracy: 0.9014 - val_loss: 0.2567 - val_accuracy: 0.9085\n",
            "Epoch 3/3\n",
            "1875/1875 [==============================] - 92s 49ms/step - loss: 0.2219 - accuracy: 0.9169 - val_loss: 0.2700 - val_accuracy: 0.9039\n"
          ]
        },
        {
          "output_type": "execute_result",
          "data": {
            "text/plain": [
              "<keras.callbacks.History at 0x7fc107f53e10>"
            ]
          },
          "metadata": {},
          "execution_count": 64
        }
      ]
    },
    {
      "cell_type": "markdown",
      "source": [
        "Filter Size set to 5"
      ],
      "metadata": {
        "id": "ARsIluooPHeo"
      }
    },
    {
      "cell_type": "code",
      "source": [
        "model = keras.Sequential([\n",
        "  keras.layers.Rescaling(1./255, input_shape=(28, 28, 1)),\n",
        "  keras.layers.Conv2D(32, 5, padding='same', activation='relu'),\n",
        "  keras.layers.MaxPooling2D(),\n",
        "  keras.layers.Conv2D(64, 5, padding='same', activation='relu'),\n",
        "  keras.layers.MaxPooling2D(),\n",
        "  keras.layers.Flatten(),\n",
        "  keras.layers.Dense(128, activation='relu'),\n",
        "  keras.layers.Dense(128, activation='relu'),\n",
        "  keras.layers.Dense(10)\n",
        "])\n",
        "model.summary()\n",
        "\n",
        "model.compile(optimizer='adam', loss=keras.losses.SparseCategoricalCrossentropy(from_logits=True), metrics=['accuracy'])\n",
        "\n",
        "model.fit(x=x_train_cnn, y=y_train_cnn, validation_data=(x_val_cnn, y_val_cnn), epochs=3)"
      ],
      "metadata": {
        "colab": {
          "base_uri": "https://localhost:8080/"
        },
        "outputId": "4ac5b887-bd12-48e7-f53a-a25e0135e358",
        "id": "mBQFI51UPKnC"
      },
      "execution_count": null,
      "outputs": [
        {
          "output_type": "stream",
          "name": "stdout",
          "text": [
            "Model: \"sequential_3\"\n",
            "_________________________________________________________________\n",
            " Layer (type)                Output Shape              Param #   \n",
            "=================================================================\n",
            " rescaling_3 (Rescaling)     (None, 28, 28, 1)         0         \n",
            "                                                                 \n",
            " conv2d_6 (Conv2D)           (None, 28, 28, 32)        832       \n",
            "                                                                 \n",
            " max_pooling2d_6 (MaxPooling  (None, 14, 14, 32)       0         \n",
            " 2D)                                                             \n",
            "                                                                 \n",
            " conv2d_7 (Conv2D)           (None, 14, 14, 64)        51264     \n",
            "                                                                 \n",
            " max_pooling2d_7 (MaxPooling  (None, 7, 7, 64)         0         \n",
            " 2D)                                                             \n",
            "                                                                 \n",
            " flatten_3 (Flatten)         (None, 3136)              0         \n",
            "                                                                 \n",
            " dense_9 (Dense)             (None, 128)               401536    \n",
            "                                                                 \n",
            " dense_10 (Dense)            (None, 128)               16512     \n",
            "                                                                 \n",
            " dense_11 (Dense)            (None, 10)                1290      \n",
            "                                                                 \n",
            "=================================================================\n",
            "Total params: 471,434\n",
            "Trainable params: 471,434\n",
            "Non-trainable params: 0\n",
            "_________________________________________________________________\n",
            "Epoch 1/3\n",
            "1875/1875 [==============================] - 185s 98ms/step - loss: 0.4153 - accuracy: 0.8482 - val_loss: 0.3240 - val_accuracy: 0.8806\n",
            "Epoch 2/3\n",
            "1875/1875 [==============================] - 183s 98ms/step - loss: 0.2704 - accuracy: 0.9007 - val_loss: 0.2767 - val_accuracy: 0.8953\n",
            "Epoch 3/3\n",
            "1875/1875 [==============================] - 183s 97ms/step - loss: 0.2272 - accuracy: 0.9148 - val_loss: 0.2477 - val_accuracy: 0.9082\n"
          ]
        },
        {
          "output_type": "execute_result",
          "data": {
            "text/plain": [
              "<keras.callbacks.History at 0x7fc10c5ab0d0>"
            ]
          },
          "metadata": {},
          "execution_count": 65
        }
      ]
    },
    {
      "cell_type": "markdown",
      "source": [
        "It can be seen that a filter size of 1*1 will greatly harm validaton accuracies (as the convolution within an area is impaired), and a filter size greater than 3 gives marginal improvements."
      ],
      "metadata": {
        "id": "fO1zCgmRl7vr"
      }
    },
    {
      "cell_type": "markdown",
      "source": [
        "### Number of filters"
      ],
      "metadata": {
        "id": "3aTFfJEdPTAq"
      }
    },
    {
      "cell_type": "markdown",
      "source": [
        "Number of filters set to 16, 32"
      ],
      "metadata": {
        "id": "7E8TPpM7L9c9"
      }
    },
    {
      "cell_type": "code",
      "source": [
        "model = keras.Sequential([\n",
        "  keras.layers.Rescaling(1./255, input_shape=(28, 28, 1)),\n",
        "  keras.layers.Conv2D(16, 3, padding='same', activation='relu'),\n",
        "  keras.layers.MaxPooling2D(),\n",
        "  keras.layers.Conv2D(32, 3, padding='same', activation='relu'),\n",
        "  keras.layers.MaxPooling2D(),\n",
        "  keras.layers.Flatten(),\n",
        "  keras.layers.Dense(128, activation='relu'),\n",
        "  keras.layers.Dense(128, activation='relu'),\n",
        "  keras.layers.Dense(10)\n",
        "])\n",
        "model.summary()\n",
        "\n",
        "model.compile(optimizer='adam', loss=keras.losses.SparseCategoricalCrossentropy(from_logits=True), metrics=['accuracy'])\n",
        "\n",
        "model.fit(x=x_train_cnn, y=y_train_cnn, validation_data=(x_val_cnn, y_val_cnn), epochs=3)"
      ],
      "metadata": {
        "colab": {
          "base_uri": "https://localhost:8080/"
        },
        "outputId": "97a152de-9c9a-4127-c933-21d1135ade10",
        "id": "h7dM_sGQLvuL"
      },
      "execution_count": null,
      "outputs": [
        {
          "output_type": "stream",
          "name": "stdout",
          "text": [
            "Model: \"sequential_4\"\n",
            "_________________________________________________________________\n",
            " Layer (type)                Output Shape              Param #   \n",
            "=================================================================\n",
            " rescaling_4 (Rescaling)     (None, 28, 28, 1)         0         \n",
            "                                                                 \n",
            " conv2d_8 (Conv2D)           (None, 28, 28, 16)        160       \n",
            "                                                                 \n",
            " max_pooling2d_8 (MaxPooling  (None, 14, 14, 16)       0         \n",
            " 2D)                                                             \n",
            "                                                                 \n",
            " conv2d_9 (Conv2D)           (None, 14, 14, 32)        4640      \n",
            "                                                                 \n",
            " max_pooling2d_9 (MaxPooling  (None, 7, 7, 32)         0         \n",
            " 2D)                                                             \n",
            "                                                                 \n",
            " flatten_4 (Flatten)         (None, 1568)              0         \n",
            "                                                                 \n",
            " dense_12 (Dense)            (None, 128)               200832    \n",
            "                                                                 \n",
            " dense_13 (Dense)            (None, 128)               16512     \n",
            "                                                                 \n",
            " dense_14 (Dense)            (None, 10)                1290      \n",
            "                                                                 \n",
            "=================================================================\n",
            "Total params: 223,434\n",
            "Trainable params: 223,434\n",
            "Non-trainable params: 0\n",
            "_________________________________________________________________\n",
            "Epoch 1/3\n",
            "1875/1875 [==============================] - 57s 30ms/step - loss: 0.4339 - accuracy: 0.8414 - val_loss: 0.3329 - val_accuracy: 0.8791\n",
            "Epoch 2/3\n",
            "1875/1875 [==============================] - 52s 28ms/step - loss: 0.2804 - accuracy: 0.8978 - val_loss: 0.2912 - val_accuracy: 0.8906\n",
            "Epoch 3/3\n",
            "1875/1875 [==============================] - 52s 28ms/step - loss: 0.2365 - accuracy: 0.9130 - val_loss: 0.2687 - val_accuracy: 0.9008\n"
          ]
        },
        {
          "output_type": "execute_result",
          "data": {
            "text/plain": [
              "<keras.callbacks.History at 0x7fc111989e90>"
            ]
          },
          "metadata": {},
          "execution_count": 66
        }
      ]
    },
    {
      "cell_type": "markdown",
      "source": [
        "Number of filters set to 32, 64"
      ],
      "metadata": {
        "id": "ORJjQZ-2OS68"
      }
    },
    {
      "cell_type": "code",
      "source": [
        "model = keras.Sequential([\n",
        "  keras.layers.Rescaling(1./255, input_shape=(28, 28, 1)),\n",
        "  keras.layers.Conv2D(32, 3, padding='same', activation='relu'),\n",
        "  keras.layers.MaxPooling2D(),\n",
        "  keras.layers.Conv2D(64, 3, padding='same', activation='relu'),\n",
        "  keras.layers.MaxPooling2D(),\n",
        "  keras.layers.Flatten(),\n",
        "  keras.layers.Dense(128, activation='relu'),\n",
        "  keras.layers.Dense(128, activation='relu'),\n",
        "  keras.layers.Dense(10)\n",
        "])\n",
        "model.summary()\n",
        "\n",
        "model.compile(optimizer='adam', loss=keras.losses.SparseCategoricalCrossentropy(from_logits=True), metrics=['accuracy'])\n",
        "\n",
        "model.fit(x=x_train_cnn, y=y_train_cnn, validation_data=(x_val_cnn, y_val_cnn), epochs=3)"
      ],
      "metadata": {
        "colab": {
          "base_uri": "https://localhost:8080/"
        },
        "outputId": "cc030c47-1084-48c2-a7e3-2c2b70352814",
        "id": "Ca_lRILQOQWB"
      },
      "execution_count": null,
      "outputs": [
        {
          "output_type": "stream",
          "name": "stdout",
          "text": [
            "Model: \"sequential_5\"\n",
            "_________________________________________________________________\n",
            " Layer (type)                Output Shape              Param #   \n",
            "=================================================================\n",
            " rescaling_5 (Rescaling)     (None, 28, 28, 1)         0         \n",
            "                                                                 \n",
            " conv2d_10 (Conv2D)          (None, 28, 28, 32)        320       \n",
            "                                                                 \n",
            " max_pooling2d_10 (MaxPoolin  (None, 14, 14, 32)       0         \n",
            " g2D)                                                            \n",
            "                                                                 \n",
            " conv2d_11 (Conv2D)          (None, 14, 14, 64)        18496     \n",
            "                                                                 \n",
            " max_pooling2d_11 (MaxPoolin  (None, 7, 7, 64)         0         \n",
            " g2D)                                                            \n",
            "                                                                 \n",
            " flatten_5 (Flatten)         (None, 3136)              0         \n",
            "                                                                 \n",
            " dense_15 (Dense)            (None, 128)               401536    \n",
            "                                                                 \n",
            " dense_16 (Dense)            (None, 128)               16512     \n",
            "                                                                 \n",
            " dense_17 (Dense)            (None, 10)                1290      \n",
            "                                                                 \n",
            "=================================================================\n",
            "Total params: 438,154\n",
            "Trainable params: 438,154\n",
            "Non-trainable params: 0\n",
            "_________________________________________________________________\n",
            "Epoch 1/3\n",
            "1875/1875 [==============================] - 97s 51ms/step - loss: 0.4051 - accuracy: 0.8524 - val_loss: 0.3084 - val_accuracy: 0.8872\n",
            "Epoch 2/3\n",
            "1875/1875 [==============================] - 93s 49ms/step - loss: 0.2640 - accuracy: 0.9038 - val_loss: 0.2792 - val_accuracy: 0.8980\n",
            "Epoch 3/3\n",
            "1875/1875 [==============================] - 95s 50ms/step - loss: 0.2170 - accuracy: 0.9206 - val_loss: 0.2462 - val_accuracy: 0.9129\n"
          ]
        },
        {
          "output_type": "execute_result",
          "data": {
            "text/plain": [
              "<keras.callbacks.History at 0x7fc111127290>"
            ]
          },
          "metadata": {},
          "execution_count": 67
        }
      ]
    },
    {
      "cell_type": "markdown",
      "source": [
        "Number of filters set to 64, 128"
      ],
      "metadata": {
        "id": "xZ8OJvD6N-0g"
      }
    },
    {
      "cell_type": "code",
      "source": [
        "model = keras.Sequential([\n",
        "  keras.layers.Rescaling(1./255, input_shape=(28, 28, 1)),\n",
        "  keras.layers.Conv2D(64, 3, padding='same', activation='relu'),\n",
        "  keras.layers.MaxPooling2D(),\n",
        "  keras.layers.Conv2D(128, 3, padding='same', activation='relu'),\n",
        "  keras.layers.MaxPooling2D(),\n",
        "  keras.layers.Flatten(),\n",
        "  keras.layers.Dense(128, activation='relu'),\n",
        "  keras.layers.Dense(128, activation='relu'),\n",
        "  keras.layers.Dense(10)\n",
        "])\n",
        "model.summary()\n",
        "\n",
        "model.compile(optimizer='adam', loss=keras.losses.SparseCategoricalCrossentropy(from_logits=True), metrics=['accuracy'])\n",
        "\n",
        "model.fit(x=x_train_cnn, y=y_train_cnn, validation_data=(x_val_cnn, y_val_cnn), epochs=3)"
      ],
      "metadata": {
        "colab": {
          "base_uri": "https://localhost:8080/"
        },
        "outputId": "808814a2-aa3b-4405-e6bd-68c33abce942",
        "id": "e1g0HDkzOE5C"
      },
      "execution_count": null,
      "outputs": [
        {
          "output_type": "stream",
          "name": "stdout",
          "text": [
            "Model: \"sequential_6\"\n",
            "_________________________________________________________________\n",
            " Layer (type)                Output Shape              Param #   \n",
            "=================================================================\n",
            " rescaling_6 (Rescaling)     (None, 28, 28, 1)         0         \n",
            "                                                                 \n",
            " conv2d_12 (Conv2D)          (None, 28, 28, 64)        640       \n",
            "                                                                 \n",
            " max_pooling2d_12 (MaxPoolin  (None, 14, 14, 64)       0         \n",
            " g2D)                                                            \n",
            "                                                                 \n",
            " conv2d_13 (Conv2D)          (None, 14, 14, 128)       73856     \n",
            "                                                                 \n",
            " max_pooling2d_13 (MaxPoolin  (None, 7, 7, 128)        0         \n",
            " g2D)                                                            \n",
            "                                                                 \n",
            " flatten_6 (Flatten)         (None, 6272)              0         \n",
            "                                                                 \n",
            " dense_18 (Dense)            (None, 128)               802944    \n",
            "                                                                 \n",
            " dense_19 (Dense)            (None, 128)               16512     \n",
            "                                                                 \n",
            " dense_20 (Dense)            (None, 10)                1290      \n",
            "                                                                 \n",
            "=================================================================\n",
            "Total params: 895,242\n",
            "Trainable params: 895,242\n",
            "Non-trainable params: 0\n",
            "_________________________________________________________________\n",
            "Epoch 1/3\n",
            "1875/1875 [==============================] - 226s 120ms/step - loss: 0.3990 - accuracy: 0.8542 - val_loss: 0.2974 - val_accuracy: 0.8891\n",
            "Epoch 2/3\n",
            "1875/1875 [==============================] - 224s 119ms/step - loss: 0.2550 - accuracy: 0.9054 - val_loss: 0.2716 - val_accuracy: 0.8988\n",
            "Epoch 3/3\n",
            "1875/1875 [==============================] - 223s 119ms/step - loss: 0.2093 - accuracy: 0.9218 - val_loss: 0.2462 - val_accuracy: 0.9112\n"
          ]
        },
        {
          "output_type": "execute_result",
          "data": {
            "text/plain": [
              "<keras.callbacks.History at 0x7fc111296c90>"
            ]
          },
          "metadata": {},
          "execution_count": 68
        }
      ]
    },
    {
      "cell_type": "markdown",
      "source": [
        "It can be seen that the number of filters set to (32, 64) for the two layers seems to be optimal for the dataset, greater or smaller size give equal or slightly worse performance."
      ],
      "metadata": {
        "id": "cGgM9YCrmdWO"
      }
    },
    {
      "cell_type": "markdown",
      "source": [
        "### Stride"
      ],
      "metadata": {
        "id": "qjF7x6sgPYu2"
      }
    },
    {
      "cell_type": "markdown",
      "source": [
        "Stride value (1, 1)"
      ],
      "metadata": {
        "id": "CaJMmFFkP1w-"
      }
    },
    {
      "cell_type": "code",
      "source": [
        "model = keras.Sequential([\n",
        "  keras.layers.Rescaling(1./255, input_shape=(28, 28, 1)),\n",
        "  keras.layers.Conv2D(32, 3, strides=(1,1), padding='same', activation='relu'),\n",
        "  keras.layers.MaxPooling2D(),\n",
        "  keras.layers.Conv2D(64, 3, strides=(1,1), padding='same', activation='relu'),\n",
        "  keras.layers.MaxPooling2D(),\n",
        "  keras.layers.Flatten(),\n",
        "  keras.layers.Dense(128, activation='relu'),\n",
        "  keras.layers.Dense(128, activation='relu'),\n",
        "  keras.layers.Dense(10)\n",
        "])\n",
        "model.summary()\n",
        "\n",
        "model.compile(optimizer='adam', loss=keras.losses.SparseCategoricalCrossentropy(from_logits=True), metrics=['accuracy'])\n",
        "\n",
        "model.fit(x=x_train_cnn, y=y_train_cnn, validation_data=(x_val_cnn, y_val_cnn), epochs=3)"
      ],
      "metadata": {
        "colab": {
          "base_uri": "https://localhost:8080/"
        },
        "outputId": "e4fc739b-d350-4888-ec7e-dd0f7def5474",
        "id": "pUu3v7JYQGT5"
      },
      "execution_count": null,
      "outputs": [
        {
          "output_type": "stream",
          "name": "stdout",
          "text": [
            "Model: \"sequential_7\"\n",
            "_________________________________________________________________\n",
            " Layer (type)                Output Shape              Param #   \n",
            "=================================================================\n",
            " rescaling_7 (Rescaling)     (None, 28, 28, 1)         0         \n",
            "                                                                 \n",
            " conv2d_14 (Conv2D)          (None, 28, 28, 32)        320       \n",
            "                                                                 \n",
            " max_pooling2d_14 (MaxPoolin  (None, 14, 14, 32)       0         \n",
            " g2D)                                                            \n",
            "                                                                 \n",
            " conv2d_15 (Conv2D)          (None, 14, 14, 64)        18496     \n",
            "                                                                 \n",
            " max_pooling2d_15 (MaxPoolin  (None, 7, 7, 64)         0         \n",
            " g2D)                                                            \n",
            "                                                                 \n",
            " flatten_7 (Flatten)         (None, 3136)              0         \n",
            "                                                                 \n",
            " dense_21 (Dense)            (None, 128)               401536    \n",
            "                                                                 \n",
            " dense_22 (Dense)            (None, 128)               16512     \n",
            "                                                                 \n",
            " dense_23 (Dense)            (None, 10)                1290      \n",
            "                                                                 \n",
            "=================================================================\n",
            "Total params: 438,154\n",
            "Trainable params: 438,154\n",
            "Non-trainable params: 0\n",
            "_________________________________________________________________\n",
            "Epoch 1/3\n",
            "1875/1875 [==============================] - 95s 50ms/step - loss: 0.4210 - accuracy: 0.8482 - val_loss: 0.3139 - val_accuracy: 0.8859\n",
            "Epoch 2/3\n",
            "1875/1875 [==============================] - 92s 49ms/step - loss: 0.2689 - accuracy: 0.9004 - val_loss: 0.2930 - val_accuracy: 0.8939\n",
            "Epoch 3/3\n",
            "1875/1875 [==============================] - 95s 51ms/step - loss: 0.2245 - accuracy: 0.9168 - val_loss: 0.2484 - val_accuracy: 0.9103\n"
          ]
        },
        {
          "output_type": "execute_result",
          "data": {
            "text/plain": [
              "<keras.callbacks.History at 0x7fc10c392d50>"
            ]
          },
          "metadata": {},
          "execution_count": 69
        }
      ]
    },
    {
      "cell_type": "markdown",
      "source": [
        "Stride value (2, 2)"
      ],
      "metadata": {
        "id": "kW-hvMOElpdy"
      }
    },
    {
      "cell_type": "code",
      "source": [
        "model = keras.Sequential([\n",
        "  keras.layers.Rescaling(1./255, input_shape=(28, 28, 1)),\n",
        "  keras.layers.Conv2D(32, 3, strides=(2,2), padding='same', activation='relu'),\n",
        "  keras.layers.MaxPooling2D(),\n",
        "  keras.layers.Conv2D(64, 3, strides=(2,2), padding='same', activation='relu'),\n",
        "  keras.layers.MaxPooling2D(),\n",
        "  keras.layers.Flatten(),\n",
        "  keras.layers.Dense(128, activation='relu'),\n",
        "  keras.layers.Dense(128, activation='relu'),\n",
        "  keras.layers.Dense(10)\n",
        "])\n",
        "model.summary()\n",
        "\n",
        "model.compile(optimizer='adam', loss=keras.losses.SparseCategoricalCrossentropy(from_logits=True), metrics=['accuracy'])\n",
        "\n",
        "model.fit(x=x_train_cnn, y=y_train_cnn, validation_data=(x_val_cnn, y_val_cnn), epochs=3)"
      ],
      "metadata": {
        "colab": {
          "base_uri": "https://localhost:8080/"
        },
        "outputId": "8f881cd7-dbf9-49a0-f44b-0902bdf6bc12",
        "id": "wFtb-y6Ylr1Q"
      },
      "execution_count": null,
      "outputs": [
        {
          "output_type": "stream",
          "name": "stdout",
          "text": [
            "Model: \"sequential_14\"\n",
            "_________________________________________________________________\n",
            " Layer (type)                Output Shape              Param #   \n",
            "=================================================================\n",
            " rescaling_14 (Rescaling)    (None, 28, 28, 1)         0         \n",
            "                                                                 \n",
            " conv2d_28 (Conv2D)          (None, 14, 14, 32)        320       \n",
            "                                                                 \n",
            " max_pooling2d_28 (MaxPoolin  (None, 7, 7, 32)         0         \n",
            " g2D)                                                            \n",
            "                                                                 \n",
            " conv2d_29 (Conv2D)          (None, 4, 4, 64)          18496     \n",
            "                                                                 \n",
            " max_pooling2d_29 (MaxPoolin  (None, 2, 2, 64)         0         \n",
            " g2D)                                                            \n",
            "                                                                 \n",
            " flatten_14 (Flatten)        (None, 256)               0         \n",
            "                                                                 \n",
            " dense_42 (Dense)            (None, 128)               32896     \n",
            "                                                                 \n",
            " dense_43 (Dense)            (None, 128)               16512     \n",
            "                                                                 \n",
            " dense_44 (Dense)            (None, 10)                1290      \n",
            "                                                                 \n",
            "=================================================================\n",
            "Total params: 69,514\n",
            "Trainable params: 69,514\n",
            "Non-trainable params: 0\n",
            "_________________________________________________________________\n",
            "Epoch 1/3\n",
            "1875/1875 [==============================] - 26s 13ms/step - loss: 0.5453 - accuracy: 0.8026 - val_loss: 0.4028 - val_accuracy: 0.8540\n",
            "Epoch 2/3\n",
            "1875/1875 [==============================] - 24s 13ms/step - loss: 0.3441 - accuracy: 0.8751 - val_loss: 0.3325 - val_accuracy: 0.8782\n",
            "Epoch 3/3\n",
            "1875/1875 [==============================] - 23s 12ms/step - loss: 0.2967 - accuracy: 0.8912 - val_loss: 0.3322 - val_accuracy: 0.8808\n"
          ]
        },
        {
          "output_type": "execute_result",
          "data": {
            "text/plain": [
              "<keras.callbacks.History at 0x7fc1028a4250>"
            ]
          },
          "metadata": {},
          "execution_count": 81
        }
      ]
    },
    {
      "cell_type": "markdown",
      "source": [
        "Stride value (3, 3)"
      ],
      "metadata": {
        "id": "kSD9NvhtQTex"
      }
    },
    {
      "cell_type": "code",
      "source": [
        "model = keras.Sequential([\n",
        "  keras.layers.Rescaling(1./255, input_shape=(28, 28, 1)),\n",
        "  keras.layers.Conv2D(32, 3, strides=(3,3), padding='same', activation='relu'),\n",
        "  keras.layers.MaxPooling2D(),\n",
        "  keras.layers.Conv2D(64, 3, strides=(3,3), padding='same', activation='relu'),\n",
        "  keras.layers.MaxPooling2D(),\n",
        "  keras.layers.Flatten(),\n",
        "  keras.layers.Dense(128, activation='relu'),\n",
        "  keras.layers.Dense(128, activation='relu'),\n",
        "  keras.layers.Dense(10)\n",
        "])\n",
        "model.summary()\n",
        "\n",
        "model.compile(optimizer='adam', loss=keras.losses.SparseCategoricalCrossentropy(from_logits=True), metrics=['accuracy'])\n",
        "\n",
        "model.fit(x=x_train_cnn, y=y_train_cnn, validation_data=(x_val_cnn, y_val_cnn), epochs=3)"
      ],
      "metadata": {
        "colab": {
          "base_uri": "https://localhost:8080/"
        },
        "outputId": "c0e98445-ba16-4714-abea-f97c6bc9dd10",
        "id": "DpcmG6_jQW3p"
      },
      "execution_count": null,
      "outputs": [
        {
          "output_type": "stream",
          "name": "stdout",
          "text": [
            "Model: \"sequential_8\"\n",
            "_________________________________________________________________\n",
            " Layer (type)                Output Shape              Param #   \n",
            "=================================================================\n",
            " rescaling_8 (Rescaling)     (None, 28, 28, 1)         0         \n",
            "                                                                 \n",
            " conv2d_16 (Conv2D)          (None, 10, 10, 32)        320       \n",
            "                                                                 \n",
            " max_pooling2d_16 (MaxPoolin  (None, 5, 5, 32)         0         \n",
            " g2D)                                                            \n",
            "                                                                 \n",
            " conv2d_17 (Conv2D)          (None, 2, 2, 64)          18496     \n",
            "                                                                 \n",
            " max_pooling2d_17 (MaxPoolin  (None, 1, 1, 64)         0         \n",
            " g2D)                                                            \n",
            "                                                                 \n",
            " flatten_8 (Flatten)         (None, 64)                0         \n",
            "                                                                 \n",
            " dense_24 (Dense)            (None, 128)               8320      \n",
            "                                                                 \n",
            " dense_25 (Dense)            (None, 128)               16512     \n",
            "                                                                 \n",
            " dense_26 (Dense)            (None, 10)                1290      \n",
            "                                                                 \n",
            "=================================================================\n",
            "Total params: 44,938\n",
            "Trainable params: 44,938\n",
            "Non-trainable params: 0\n",
            "_________________________________________________________________\n",
            "Epoch 1/3\n",
            "1875/1875 [==============================] - 16s 8ms/step - loss: 0.5949 - accuracy: 0.7786 - val_loss: 0.4387 - val_accuracy: 0.8411\n",
            "Epoch 2/3\n",
            "1875/1875 [==============================] - 15s 8ms/step - loss: 0.4004 - accuracy: 0.8524 - val_loss: 0.3862 - val_accuracy: 0.8598\n",
            "Epoch 3/3\n",
            "1875/1875 [==============================] - 16s 8ms/step - loss: 0.3499 - accuracy: 0.8708 - val_loss: 0.3561 - val_accuracy: 0.8684\n"
          ]
        },
        {
          "output_type": "execute_result",
          "data": {
            "text/plain": [
              "<keras.callbacks.History at 0x7fc10c1fe710>"
            ]
          },
          "metadata": {},
          "execution_count": 70
        }
      ]
    },
    {
      "cell_type": "markdown",
      "source": [
        "It can be seen that greater stride size improves efficiency, but impairs accuracies compared to the smallest, (1, 1) stride size."
      ],
      "metadata": {
        "id": "sNEU6UxJm_mY"
      }
    },
    {
      "cell_type": "markdown",
      "source": [
        "### 3.8.3 Examine the effect of different dropout node proportions on the final performance"
      ],
      "metadata": {
        "id": "ZBkFpNZzvvqV"
      }
    },
    {
      "cell_type": "markdown",
      "source": [
        "Proportion of 0.1"
      ],
      "metadata": {
        "id": "Tz6F659BRDi_"
      }
    },
    {
      "cell_type": "code",
      "source": [
        "model = keras.Sequential([\n",
        "  keras.layers.Rescaling(1./255, input_shape=(28, 28, 1)),\n",
        "  keras.layers.Conv2D(32, 3, padding='same', activation='relu'),\n",
        "  keras.layers.MaxPooling2D(),\n",
        "  keras.layers.Dropout(0.1),\n",
        "  keras.layers.Conv2D(64, 3, padding='same', activation='relu'),\n",
        "  keras.layers.MaxPooling2D(),\n",
        "  keras.layers.Dropout(0.1),\n",
        "  keras.layers.Flatten(),\n",
        "  keras.layers.Dense(128, activation='relu'),\n",
        "  keras.layers.Dense(128, activation='relu'),\n",
        "  keras.layers.Dense(10)\n",
        "])\n",
        "model.summary()\n",
        "\n",
        "model.compile(optimizer='adam', loss=keras.losses.SparseCategoricalCrossentropy(from_logits=True), metrics=['accuracy'])\n",
        "\n",
        "model.fit(x=x_train_cnn, y=y_train_cnn, validation_data=(x_val_cnn, y_val_cnn), epochs=3)"
      ],
      "metadata": {
        "colab": {
          "base_uri": "https://localhost:8080/"
        },
        "outputId": "3911f80a-e06a-42ca-aa12-6c68cd0f3778",
        "id": "1yRDrPYARILY"
      },
      "execution_count": null,
      "outputs": [
        {
          "output_type": "stream",
          "name": "stdout",
          "text": [
            "Model: \"sequential_10\"\n",
            "_________________________________________________________________\n",
            " Layer (type)                Output Shape              Param #   \n",
            "=================================================================\n",
            " rescaling_10 (Rescaling)    (None, 28, 28, 1)         0         \n",
            "                                                                 \n",
            " conv2d_20 (Conv2D)          (None, 28, 28, 32)        320       \n",
            "                                                                 \n",
            " max_pooling2d_20 (MaxPoolin  (None, 14, 14, 32)       0         \n",
            " g2D)                                                            \n",
            "                                                                 \n",
            " dropout (Dropout)           (None, 14, 14, 32)        0         \n",
            "                                                                 \n",
            " conv2d_21 (Conv2D)          (None, 14, 14, 64)        18496     \n",
            "                                                                 \n",
            " max_pooling2d_21 (MaxPoolin  (None, 7, 7, 64)         0         \n",
            " g2D)                                                            \n",
            "                                                                 \n",
            " dropout_1 (Dropout)         (None, 7, 7, 64)          0         \n",
            "                                                                 \n",
            " flatten_10 (Flatten)        (None, 3136)              0         \n",
            "                                                                 \n",
            " dense_30 (Dense)            (None, 128)               401536    \n",
            "                                                                 \n",
            " dense_31 (Dense)            (None, 128)               16512     \n",
            "                                                                 \n",
            " dense_32 (Dense)            (None, 10)                1290      \n",
            "                                                                 \n",
            "=================================================================\n",
            "Total params: 438,154\n",
            "Trainable params: 438,154\n",
            "Non-trainable params: 0\n",
            "_________________________________________________________________\n",
            "Epoch 1/3\n",
            "1875/1875 [==============================] - 114s 60ms/step - loss: 0.4264 - accuracy: 0.8447 - val_loss: 0.3269 - val_accuracy: 0.8804\n",
            "Epoch 2/3\n",
            "1875/1875 [==============================] - 106s 57ms/step - loss: 0.2788 - accuracy: 0.8972 - val_loss: 0.2772 - val_accuracy: 0.8996\n",
            "Epoch 3/3\n",
            "1875/1875 [==============================] - 108s 58ms/step - loss: 0.2349 - accuracy: 0.9121 - val_loss: 0.2610 - val_accuracy: 0.9031\n"
          ]
        },
        {
          "output_type": "execute_result",
          "data": {
            "text/plain": [
              "<keras.callbacks.History at 0x7fc10c2048d0>"
            ]
          },
          "metadata": {},
          "execution_count": 72
        }
      ]
    },
    {
      "cell_type": "markdown",
      "source": [
        "Proportion of 0.3"
      ],
      "metadata": {
        "id": "9OAFkj0tRiAg"
      }
    },
    {
      "cell_type": "code",
      "source": [
        "model = keras.Sequential([\n",
        "  keras.layers.Rescaling(1./255, input_shape=(28, 28, 1)),\n",
        "  keras.layers.Conv2D(32, 3, padding='same', activation='relu'),\n",
        "  keras.layers.MaxPooling2D(),\n",
        "  keras.layers.Dropout(0.3),\n",
        "  keras.layers.Conv2D(64, 3, padding='same', activation='relu'),\n",
        "  keras.layers.MaxPooling2D(),\n",
        "  keras.layers.Dropout(0.3),\n",
        "  keras.layers.Flatten(),\n",
        "  keras.layers.Dense(128, activation='relu'),\n",
        "  keras.layers.Dense(128, activation='relu'),\n",
        "  keras.layers.Dense(10)\n",
        "])\n",
        "model.summary()\n",
        "\n",
        "model.compile(optimizer='adam', loss=keras.losses.SparseCategoricalCrossentropy(from_logits=True), metrics=['accuracy'])\n",
        "\n",
        "model.fit(x=x_train_cnn, y=y_train_cnn, validation_data=(x_val_cnn, y_val_cnn), epochs=3)"
      ],
      "metadata": {
        "colab": {
          "base_uri": "https://localhost:8080/"
        },
        "outputId": "55e1cefa-ffb6-4a54-82b6-7599134578ab",
        "id": "CYoi1pkxRkfS"
      },
      "execution_count": null,
      "outputs": [
        {
          "output_type": "stream",
          "name": "stdout",
          "text": [
            "Model: \"sequential_11\"\n",
            "_________________________________________________________________\n",
            " Layer (type)                Output Shape              Param #   \n",
            "=================================================================\n",
            " rescaling_11 (Rescaling)    (None, 28, 28, 1)         0         \n",
            "                                                                 \n",
            " conv2d_22 (Conv2D)          (None, 28, 28, 32)        320       \n",
            "                                                                 \n",
            " max_pooling2d_22 (MaxPoolin  (None, 14, 14, 32)       0         \n",
            " g2D)                                                            \n",
            "                                                                 \n",
            " dropout_2 (Dropout)         (None, 14, 14, 32)        0         \n",
            "                                                                 \n",
            " conv2d_23 (Conv2D)          (None, 14, 14, 64)        18496     \n",
            "                                                                 \n",
            " max_pooling2d_23 (MaxPoolin  (None, 7, 7, 64)         0         \n",
            " g2D)                                                            \n",
            "                                                                 \n",
            " dropout_3 (Dropout)         (None, 7, 7, 64)          0         \n",
            "                                                                 \n",
            " flatten_11 (Flatten)        (None, 3136)              0         \n",
            "                                                                 \n",
            " dense_33 (Dense)            (None, 128)               401536    \n",
            "                                                                 \n",
            " dense_34 (Dense)            (None, 128)               16512     \n",
            "                                                                 \n",
            " dense_35 (Dense)            (None, 10)                1290      \n",
            "                                                                 \n",
            "=================================================================\n",
            "Total params: 438,154\n",
            "Trainable params: 438,154\n",
            "Non-trainable params: 0\n",
            "_________________________________________________________________\n",
            "Epoch 1/3\n",
            "1875/1875 [==============================] - 107s 57ms/step - loss: 0.4530 - accuracy: 0.8343 - val_loss: 0.3547 - val_accuracy: 0.8670\n",
            "Epoch 2/3\n",
            "1875/1875 [==============================] - 102s 54ms/step - loss: 0.3105 - accuracy: 0.8861 - val_loss: 0.2769 - val_accuracy: 0.8981\n",
            "Epoch 3/3\n",
            "1875/1875 [==============================] - 104s 56ms/step - loss: 0.2715 - accuracy: 0.8994 - val_loss: 0.2778 - val_accuracy: 0.8988\n"
          ]
        },
        {
          "output_type": "execute_result",
          "data": {
            "text/plain": [
              "<keras.callbacks.History at 0x7fc102ef76d0>"
            ]
          },
          "metadata": {},
          "execution_count": 73
        }
      ]
    },
    {
      "cell_type": "markdown",
      "source": [
        "Proportion of 0.5"
      ],
      "metadata": {
        "id": "2kPUEExRRoIr"
      }
    },
    {
      "cell_type": "code",
      "source": [
        "model = keras.Sequential([\n",
        "  keras.layers.Rescaling(1./255, input_shape=(28, 28, 1)),\n",
        "  keras.layers.Conv2D(32, 3, padding='same', activation='relu'),\n",
        "  keras.layers.MaxPooling2D(),\n",
        "  keras.layers.Dropout(0.5),\n",
        "  keras.layers.Conv2D(64, 3, padding='same', activation='relu'),\n",
        "  keras.layers.MaxPooling2D(),\n",
        "  keras.layers.Dropout(0.5),\n",
        "  keras.layers.Flatten(),\n",
        "  keras.layers.Dense(128, activation='relu'),\n",
        "  keras.layers.Dense(128, activation='relu'),\n",
        "  keras.layers.Dense(10)\n",
        "])\n",
        "model.summary()\n",
        "\n",
        "model.compile(optimizer='adam', loss=keras.losses.SparseCategoricalCrossentropy(from_logits=True), metrics=['accuracy'])\n",
        "\n",
        "model.fit(x=x_train_cnn, y=y_train_cnn, validation_data=(x_val_cnn, y_val_cnn), epochs=3)"
      ],
      "metadata": {
        "colab": {
          "base_uri": "https://localhost:8080/"
        },
        "outputId": "eb6ab98e-b7db-436a-8135-c7d11b1b052c",
        "id": "BfnkHVOYRqj4"
      },
      "execution_count": null,
      "outputs": [
        {
          "output_type": "stream",
          "name": "stdout",
          "text": [
            "Model: \"sequential_12\"\n",
            "_________________________________________________________________\n",
            " Layer (type)                Output Shape              Param #   \n",
            "=================================================================\n",
            " rescaling_12 (Rescaling)    (None, 28, 28, 1)         0         \n",
            "                                                                 \n",
            " conv2d_24 (Conv2D)          (None, 28, 28, 32)        320       \n",
            "                                                                 \n",
            " max_pooling2d_24 (MaxPoolin  (None, 14, 14, 32)       0         \n",
            " g2D)                                                            \n",
            "                                                                 \n",
            " dropout_4 (Dropout)         (None, 14, 14, 32)        0         \n",
            "                                                                 \n",
            " conv2d_25 (Conv2D)          (None, 14, 14, 64)        18496     \n",
            "                                                                 \n",
            " max_pooling2d_25 (MaxPoolin  (None, 7, 7, 64)         0         \n",
            " g2D)                                                            \n",
            "                                                                 \n",
            " dropout_5 (Dropout)         (None, 7, 7, 64)          0         \n",
            "                                                                 \n",
            " flatten_12 (Flatten)        (None, 3136)              0         \n",
            "                                                                 \n",
            " dense_36 (Dense)            (None, 128)               401536    \n",
            "                                                                 \n",
            " dense_37 (Dense)            (None, 128)               16512     \n",
            "                                                                 \n",
            " dense_38 (Dense)            (None, 10)                1290      \n",
            "                                                                 \n",
            "=================================================================\n",
            "Total params: 438,154\n",
            "Trainable params: 438,154\n",
            "Non-trainable params: 0\n",
            "_________________________________________________________________\n",
            "Epoch 1/3\n",
            "1875/1875 [==============================] - 103s 54ms/step - loss: 0.5316 - accuracy: 0.8020 - val_loss: 0.3892 - val_accuracy: 0.8551\n",
            "Epoch 2/3\n",
            "1875/1875 [==============================] - 105s 56ms/step - loss: 0.3672 - accuracy: 0.8636 - val_loss: 0.3144 - val_accuracy: 0.8863\n",
            "Epoch 3/3\n",
            "1875/1875 [==============================] - 103s 55ms/step - loss: 0.3261 - accuracy: 0.8798 - val_loss: 0.2910 - val_accuracy: 0.8934\n"
          ]
        },
        {
          "output_type": "execute_result",
          "data": {
            "text/plain": [
              "<keras.callbacks.History at 0x7fc102e159d0>"
            ]
          },
          "metadata": {},
          "execution_count": 74
        }
      ]
    },
    {
      "cell_type": "markdown",
      "source": [
        "### 3.8.4 Training the MLP and ConvNet with 10^k, k ∈ {0, 1, 2, 3, 4} images and plotting the test accuracy."
      ],
      "metadata": {
        "id": "XZuWJhOPv3EA"
      }
    },
    {
      "cell_type": "code",
      "source": [
        "# training set size {1,10,100,1000,10000} then test the accuracy\n",
        "#split the training set size\n",
        "def random_part_of_data(dataset_size, part_fraction):\n",
        "  part_size = round(dataset_size * part_fraction)\n",
        "  part_indices = random.sample(range(0, dataset_size), part_size)\n",
        "  return part_indices"
      ],
      "metadata": {
        "id": "_fIOYlq07k9v"
      },
      "execution_count": null,
      "outputs": []
    },
    {
      "cell_type": "code",
      "source": [
        "train_1 = random_part_of_data(X_train.shape[0],1/X_train.shape[0]) # 10^0\n",
        "train_10 = random_part_of_data(X_train.shape[0],10/X_train.shape[0]) # 10^1\n",
        "train_100 = random_part_of_data(X_train.shape[0],100/X_train.shape[0]) # 10^2\n",
        "train_1000 = random_part_of_data(X_train.shape[0],1000/X_train.shape[0]) # 10^3\n",
        "train_10000 = random_part_of_data(X_train.shape[0],10000/X_train.shape[0]) # 10^4"
      ],
      "metadata": {
        "id": "3pHgh7XT8aFP"
      },
      "execution_count": null,
      "outputs": []
    },
    {
      "cell_type": "code",
      "source": [
        "# train MLP -- example zero hidden layer\n",
        "\n",
        "GRADIENT_STEPS = 2000 # This is equivalent to epochs\n",
        "BATCH_SIZE = 100\n",
        "mlp0 = MLP(num_hidden_layers=0)\n",
        "opt0 = GradientDescentOptimizer(mlp0, 1,0)\n",
        "\n",
        "y_pred_1 = mlp0.fit(opt0, X_train[train_1], y_train[train_1], GRADIENT_STEPS, BATCH_SIZE).predict(X_test)\n",
        "y_pred_10 = mlp0.fit(opt0, X_train[train_10], y_train[train_10], GRADIENT_STEPS, BATCH_SIZE).predict(X_test)\n",
        "y_pred_100 = mlp0.fit(opt0, X_train[train_100], y_train[train_100], GRADIENT_STEPS, BATCH_SIZE).predict(X_test)\n",
        "y_pred_1000 = mlp0.fit(opt0, X_train[train_1000], y_train[train_1000], GRADIENT_STEPS, BATCH_SIZE).predict(X_test)\n",
        "y_pred_10000 = mlp0.fit(opt0, X_train[train_10000], y_train[train_10000], GRADIENT_STEPS, BATCH_SIZE).predict(X_test)"
      ],
      "metadata": {
        "colab": {
          "base_uri": "https://localhost:8080/"
        },
        "id": "7b394fu19X-a",
        "outputId": "7ce129c1-fdd4-4e7a-9ded-e565d5f02fac"
      },
      "execution_count": null,
      "outputs": [
        {
          "output_type": "stream",
          "name": "stderr",
          "text": [
            "100%|██████████| 2000/2000 [00:36<00:00, 54.62it/s]\n",
            "100%|██████████| 2000/2000 [00:34<00:00, 57.41it/s]\n",
            "100%|██████████| 2000/2000 [00:34<00:00, 57.46it/s]\n",
            "100%|██████████| 2000/2000 [00:35<00:00, 57.14it/s]\n",
            "100%|██████████| 2000/2000 [00:34<00:00, 57.74it/s]\n"
          ]
        }
      ]
    },
    {
      "cell_type": "code",
      "source": [
        "acc_1 = mlp0.evaluate_acc(y_pred_1, y_test)\n",
        "acc_10 = mlp0.evaluate_acc(y_pred_10, y_test)\n",
        "acc_100 = mlp0.evaluate_acc(y_pred_100, y_test)\n",
        "acc_1000 = mlp0.evaluate_acc(y_pred_1000, y_test)\n",
        "acc_10000 = mlp0.evaluate_acc(y_pred_10000, y_test)\n",
        "\n",
        "x = [1,10,100,1000,10000]\n",
        "y = [acc_1,acc_10,acc_100,acc_1000,acc_10000]\n",
        "  \n",
        "# plot line\n",
        "plt.plot(x, y)\n",
        "plt.title(\"Training MLP with different number of images\")\n",
        "plt.xlabel(\"Training data size (# of images)\")\n",
        "plt.ylabel(\"Test Accuracy\")\n",
        "plt.show()\n"
      ],
      "metadata": {
        "colab": {
          "base_uri": "https://localhost:8080/",
          "height": 295
        },
        "id": "oQitJg7b_MRb",
        "outputId": "1d21b2e7-678a-482b-fed3-a5f669f648ca"
      },
      "execution_count": null,
      "outputs": [
        {
          "output_type": "display_data",
          "data": {
            "text/plain": [
              "<Figure size 432x288 with 1 Axes>"
            ],
            "image/png": "[encoded data removed]"
          },
          "metadata": {
            "needs_background": "light"
          }
        }
      ]
    },
    {
      "cell_type": "code",
      "source": [
        "# 1 hidden layer\n",
        "GRADIENT_STEPS = 500 # This is equivalent to epochs\n",
        "BATCH_SIZE = 128\n",
        "mlp1 = MLP(num_hidden_layers=1, num_hidden_units = [256])\n",
        "opt1 = GradientDescentOptimizer(mlp1, 0.5, 0.001)\n",
        "\n",
        "y_pred_1 = mlp1.fit(opt1, X_train[train_1], y_train[train_1], GRADIENT_STEPS, BATCH_SIZE).predict(X_test)\n",
        "y_pred_10 = mlp1.fit(opt1, X_train[train_10], y_train[train_10], GRADIENT_STEPS, BATCH_SIZE).predict(X_test)\n",
        "y_pred_100 = mlp1.fit(opt1, X_train[train_100], y_train[train_100], GRADIENT_STEPS, BATCH_SIZE).predict(X_test)\n",
        "y_pred_1000 = mlp1.fit(opt1, X_train[train_1000], y_train[train_1000], GRADIENT_STEPS, BATCH_SIZE).predict(X_test)\n",
        "y_pred_10000 = mlp1.fit(opt1, X_train[train_10000], y_train[train_10000], GRADIENT_STEPS, BATCH_SIZE).predict(X_test)"
      ],
      "metadata": {
        "colab": {
          "base_uri": "https://localhost:8080/"
        },
        "id": "Pq8XBaEebe3x",
        "outputId": "5777319b-9744-4138-c7c2-6e8a0ffa94dc"
      },
      "execution_count": null,
      "outputs": [
        {
          "output_type": "stream",
          "name": "stderr",
          "text": [
            "100%|██████████| 500/500 [05:26<00:00,  1.53it/s]\n",
            "100%|██████████| 500/500 [05:24<00:00,  1.54it/s]\n",
            "100%|██████████| 500/500 [05:24<00:00,  1.54it/s]\n",
            "100%|██████████| 500/500 [05:21<00:00,  1.56it/s]\n",
            "100%|██████████| 500/500 [04:45<00:00,  1.75it/s]\n"
          ]
        }
      ]
    },
    {
      "cell_type": "code",
      "source": [
        "acc_1_1 = mlp1.evaluate_acc(y_pred_1, y_test)\n",
        "acc_10_1= mlp1.evaluate_acc(y_pred_10, y_test)\n",
        "acc_100_1 = mlp1.evaluate_acc(y_pred_100, y_test)\n",
        "acc_1000_1 = mlp1.evaluate_acc(y_pred_1000, y_test)\n",
        "acc_10000_1 = mlp1.evaluate_acc(y_pred_10000, y_test)\n",
        "\n",
        "x = [1,10,100,1000,10000]\n",
        "y = [acc_1_1,acc_10_1,acc_100_1,acc_1000_1,acc_10000_1]\n",
        "  \n",
        "# plot line\n",
        "plt.plot(x, y)\n",
        "plt.title(\"Training 1 layer MLP with different number of images\")\n",
        "plt.xlabel(\"Training data size (# of images)\")\n",
        "plt.ylabel(\"Test Accuracy\")\n",
        "plt.show()"
      ],
      "metadata": {
        "colab": {
          "base_uri": "https://localhost:8080/",
          "height": 295
        },
        "id": "yyih-ed4crK5",
        "outputId": "7f07ade1-28f1-4708-b9f7-217818c0b81b"
      },
      "execution_count": null,
      "outputs": [
        {
          "output_type": "display_data",
          "data": {
            "text/plain": [
              "<Figure size 432x288 with 1 Axes>"
            ],
            "image/png": "[encoded data removed]"
          },
          "metadata": {
            "needs_background": "light"
          }
        }
      ]
    },
    {
      "cell_type": "code",
      "source": [
        "model = keras.Sequential([\n",
        "  keras.layers.Rescaling(1./255, input_shape=(28, 28, 1)),\n",
        "  keras.layers.Conv2D(32, 3, padding='same', activation='relu'),\n",
        "  keras.layers.MaxPooling2D(),\n",
        "  keras.layers.Conv2D(64, 3, padding='same', activation='relu'),\n",
        "  keras.layers.MaxPooling2D(),\n",
        "  keras.layers.Flatten(),\n",
        "  keras.layers.Dense(128, activation='relu'),\n",
        "  keras.layers.Dense(128, activation='relu'),\n",
        "  keras.layers.Dense(10)\n",
        "])\n",
        "model.summary()\n",
        "\n",
        "model.compile(optimizer='adam', loss=keras.losses.SparseCategoricalCrossentropy(from_logits=True), metrics=['accuracy'])\n",
        "\n",
        "epo = 10\n",
        "\n",
        "\n",
        "(x_train, y_train), (x_val, y_val) = keras.datasets.fashion_mnist.load_data()\n",
        "\n",
        "history_1 = model.fit(x=x_train[train_1], y=y_train[train_1], validation_data=(x_val, y_val), epochs=epo)\n",
        "history_10 = model.fit(x=x_train[train_10], y=y_train[train_10], validation_data=(x_val, y_val), epochs=epo)\n",
        "history_100 = model.fit(x=x_train[train_100], y=y_train[train_100], validation_data=(x_val, y_val), epochs=epo)\n",
        "history_1000 = model.fit(x=x_train[train_1000], y=y_train[train_1000], validation_data=(x_val, y_val), epochs=epo)\n",
        "history_10000 = model.fit(x=x_train[train_10000], y=y_train[train_10000], validation_data=(x_val, y_val), epochs=epo)\n"
      ],
      "metadata": {
        "colab": {
          "base_uri": "https://localhost:8080/"
        },
        "id": "9eJ8dQW6Ac2N",
        "outputId": "86843911-9e79-47db-c1da-c48e8337b3f1"
      },
      "execution_count": null,
      "outputs": [
        {
          "output_type": "stream",
          "name": "stdout",
          "text": [
            "Model: \"sequential_13\"\n",
            "_________________________________________________________________\n",
            " Layer (type)                Output Shape              Param #   \n",
            "=================================================================\n",
            " rescaling_13 (Rescaling)    (None, 28, 28, 1)         0         \n",
            "                                                                 \n",
            " conv2d_26 (Conv2D)          (None, 28, 28, 32)        320       \n",
            "                                                                 \n",
            " max_pooling2d_26 (MaxPoolin  (None, 14, 14, 32)       0         \n",
            " g2D)                                                            \n",
            "                                                                 \n",
            " conv2d_27 (Conv2D)          (None, 14, 14, 64)        18496     \n",
            "                                                                 \n",
            " max_pooling2d_27 (MaxPoolin  (None, 7, 7, 64)         0         \n",
            " g2D)                                                            \n",
            "                                                                 \n",
            " flatten_13 (Flatten)        (None, 3136)              0         \n",
            "                                                                 \n",
            " dense_39 (Dense)            (None, 128)               401536    \n",
            "                                                                 \n",
            " dense_40 (Dense)            (None, 128)               16512     \n",
            "                                                                 \n",
            " dense_41 (Dense)            (None, 10)                1290      \n",
            "                                                                 \n",
            "=================================================================\n",
            "Total params: 438,154\n",
            "Trainable params: 438,154\n",
            "Non-trainable params: 0\n",
            "_________________________________________________________________\n",
            "Epoch 1/10\n",
            "1/1 [==============================] - 5s 5s/step - loss: 2.2952 - accuracy: 0.0000e+00 - val_loss: 2.3073 - val_accuracy: 0.1000\n",
            "Epoch 2/10\n",
            "1/1 [==============================] - 4s 4s/step - loss: 2.1741 - accuracy: 1.0000 - val_loss: 2.3321 - val_accuracy: 0.1000\n",
            "Epoch 3/10\n",
            "1/1 [==============================] - 4s 4s/step - loss: 2.0140 - accuracy: 1.0000 - val_loss: 2.3974 - val_accuracy: 0.1000\n",
            "Epoch 4/10\n",
            "1/1 [==============================] - 4s 4s/step - loss: 1.7999 - accuracy: 1.0000 - val_loss: 2.5513 - val_accuracy: 0.1000\n",
            "Epoch 5/10\n",
            "1/1 [==============================] - 4s 4s/step - loss: 1.5199 - accuracy: 1.0000 - val_loss: 2.9286 - val_accuracy: 0.1000\n",
            "Epoch 6/10\n",
            "1/1 [==============================] - 4s 4s/step - loss: 1.1565 - accuracy: 1.0000 - val_loss: 3.7312 - val_accuracy: 0.1000\n",
            "Epoch 7/10\n",
            "1/1 [==============================] - 4s 4s/step - loss: 0.7462 - accuracy: 1.0000 - val_loss: 5.1325 - val_accuracy: 0.1000\n",
            "Epoch 8/10\n",
            "1/1 [==============================] - 4s 4s/step - loss: 0.3676 - accuracy: 1.0000 - val_loss: 7.2029 - val_accuracy: 0.1000\n",
            "Epoch 9/10\n",
            "1/1 [==============================] - 4s 4s/step - loss: 0.1246 - accuracy: 1.0000 - val_loss: 9.8757 - val_accuracy: 0.1000\n",
            "Epoch 10/10\n",
            "1/1 [==============================] - 4s 4s/step - loss: 0.0293 - accuracy: 1.0000 - val_loss: 12.9928 - val_accuracy: 0.1000\n",
            "Epoch 1/10\n",
            "1/1 [==============================] - 4s 4s/step - loss: 14.0607 - accuracy: 0.1000 - val_loss: 11.6273 - val_accuracy: 0.1000\n",
            "Epoch 2/10\n",
            "1/1 [==============================] - 4s 4s/step - loss: 12.5278 - accuracy: 0.1000 - val_loss: 9.5965 - val_accuracy: 0.1000\n",
            "Epoch 3/10\n",
            "1/1 [==============================] - 6s 6s/step - loss: 10.2897 - accuracy: 0.1000 - val_loss: 7.4666 - val_accuracy: 0.1000\n",
            "Epoch 4/10\n",
            "1/1 [==============================] - 4s 4s/step - loss: 7.9698 - accuracy: 0.1000 - val_loss: 5.5659 - val_accuracy: 0.1000\n",
            "Epoch 5/10\n",
            "1/1 [==============================] - 4s 4s/step - loss: 5.9000 - accuracy: 0.1000 - val_loss: 4.0662 - val_accuracy: 0.1000\n",
            "Epoch 6/10\n",
            "1/1 [==============================] - 4s 4s/step - loss: 4.2455 - accuracy: 0.1000 - val_loss: 3.0570 - val_accuracy: 0.1000\n",
            "Epoch 7/10\n",
            "1/1 [==============================] - 4s 4s/step - loss: 3.1078 - accuracy: 0.1000 - val_loss: 2.5625 - val_accuracy: 0.1000\n",
            "Epoch 8/10\n",
            "1/1 [==============================] - 4s 4s/step - loss: 2.5427 - accuracy: 0.1000 - val_loss: 2.3683 - val_accuracy: 0.1000\n",
            "Epoch 9/10\n",
            "1/1 [==============================] - 4s 4s/step - loss: 2.3241 - accuracy: 0.1000 - val_loss: 2.3063 - val_accuracy: 0.1678\n",
            "Epoch 10/10\n",
            "1/1 [==============================] - 4s 4s/step - loss: 2.2618 - accuracy: 0.3000 - val_loss: 2.2945 - val_accuracy: 0.1001\n",
            "Epoch 1/10\n",
            "4/4 [==============================] - 4s 1s/step - loss: 2.2851 - accuracy: 0.1100 - val_loss: 2.2968 - val_accuracy: 0.0992\n",
            "Epoch 2/10\n",
            "4/4 [==============================] - 4s 1s/step - loss: 2.2665 - accuracy: 0.1400 - val_loss: 2.2933 - val_accuracy: 0.1002\n",
            "Epoch 3/10\n",
            "4/4 [==============================] - 4s 1s/step - loss: 2.2594 - accuracy: 0.1200 - val_loss: 2.2896 - val_accuracy: 0.1000\n",
            "Epoch 4/10\n",
            "4/4 [==============================] - 4s 1s/step - loss: 2.2542 - accuracy: 0.1200 - val_loss: 2.2856 - val_accuracy: 0.1000\n",
            "Epoch 5/10\n",
            "4/4 [==============================] - 4s 1s/step - loss: 2.2474 - accuracy: 0.1200 - val_loss: 2.2822 - val_accuracy: 0.1000\n",
            "Epoch 6/10\n",
            "4/4 [==============================] - 4s 1s/step - loss: 2.2393 - accuracy: 0.1200 - val_loss: 2.2774 - val_accuracy: 0.1000\n",
            "Epoch 7/10\n",
            "4/4 [==============================] - 4s 1s/step - loss: 2.2288 - accuracy: 0.1200 - val_loss: 2.2719 - val_accuracy: 0.1000\n",
            "Epoch 8/10\n",
            "4/4 [==============================] - 4s 1s/step - loss: 2.2149 - accuracy: 0.1200 - val_loss: 2.2637 - val_accuracy: 0.1000\n",
            "Epoch 9/10\n",
            "4/4 [==============================] - 4s 1s/step - loss: 2.1940 - accuracy: 0.1200 - val_loss: 2.2512 - val_accuracy: 0.1021\n",
            "Epoch 10/10\n",
            "4/4 [==============================] - 4s 1s/step - loss: 2.1685 - accuracy: 0.1600 - val_loss: 2.2334 - val_accuracy: 0.1804\n",
            "Epoch 1/10\n",
            "32/32 [==============================] - 5s 174ms/step - loss: 1.9502 - accuracy: 0.3820 - val_loss: 1.4565 - val_accuracy: 0.4764\n",
            "Epoch 2/10\n",
            "32/32 [==============================] - 5s 174ms/step - loss: 1.0429 - accuracy: 0.6230 - val_loss: 0.8779 - val_accuracy: 0.6715\n",
            "Epoch 3/10\n",
            "32/32 [==============================] - 5s 175ms/step - loss: 0.7443 - accuracy: 0.7120 - val_loss: 0.7478 - val_accuracy: 0.7190\n",
            "Epoch 4/10\n",
            "32/32 [==============================] - 6s 177ms/step - loss: 0.6497 - accuracy: 0.7540 - val_loss: 0.6906 - val_accuracy: 0.7398\n",
            "Epoch 5/10\n",
            "32/32 [==============================] - 6s 177ms/step - loss: 0.5721 - accuracy: 0.7850 - val_loss: 0.6278 - val_accuracy: 0.7580\n",
            "Epoch 6/10\n",
            "32/32 [==============================] - 6s 178ms/step - loss: 0.5441 - accuracy: 0.7990 - val_loss: 0.6050 - val_accuracy: 0.7746\n",
            "Epoch 7/10\n",
            "32/32 [==============================] - 5s 174ms/step - loss: 0.5012 - accuracy: 0.8140 - val_loss: 0.5608 - val_accuracy: 0.7902\n",
            "Epoch 8/10\n",
            "32/32 [==============================] - 5s 173ms/step - loss: 0.4873 - accuracy: 0.8090 - val_loss: 0.5382 - val_accuracy: 0.8034\n",
            "Epoch 9/10\n",
            "32/32 [==============================] - 6s 177ms/step - loss: 0.4550 - accuracy: 0.8350 - val_loss: 0.5489 - val_accuracy: 0.7855\n",
            "Epoch 10/10\n",
            "32/32 [==============================] - 5s 175ms/step - loss: 0.3862 - accuracy: 0.8530 - val_loss: 0.5125 - val_accuracy: 0.8047\n",
            "Epoch 1/10\n",
            "313/313 [==============================] - 21s 68ms/step - loss: 0.4516 - accuracy: 0.8336 - val_loss: 0.4328 - val_accuracy: 0.8375\n",
            "Epoch 2/10\n",
            "313/313 [==============================] - 19s 61ms/step - loss: 0.3694 - accuracy: 0.8643 - val_loss: 0.3936 - val_accuracy: 0.8536\n",
            "Epoch 3/10\n",
            "313/313 [==============================] - 19s 60ms/step - loss: 0.3220 - accuracy: 0.8815 - val_loss: 0.3472 - val_accuracy: 0.8748\n",
            "Epoch 4/10\n",
            "313/313 [==============================] - 19s 60ms/step - loss: 0.2823 - accuracy: 0.8950 - val_loss: 0.3475 - val_accuracy: 0.8780\n",
            "Epoch 5/10\n",
            "313/313 [==============================] - 19s 60ms/step - loss: 0.2566 - accuracy: 0.9054 - val_loss: 0.3553 - val_accuracy: 0.8776\n",
            "Epoch 6/10\n",
            "313/313 [==============================] - 19s 61ms/step - loss: 0.2226 - accuracy: 0.9173 - val_loss: 0.3390 - val_accuracy: 0.8780\n",
            "Epoch 7/10\n",
            "313/313 [==============================] - 19s 61ms/step - loss: 0.2038 - accuracy: 0.9247 - val_loss: 0.3430 - val_accuracy: 0.8827\n",
            "Epoch 8/10\n",
            "313/313 [==============================] - 19s 60ms/step - loss: 0.1856 - accuracy: 0.9316 - val_loss: 0.3397 - val_accuracy: 0.8851\n",
            "Epoch 9/10\n",
            "313/313 [==============================] - 19s 60ms/step - loss: 0.1584 - accuracy: 0.9399 - val_loss: 0.3565 - val_accuracy: 0.8835\n",
            "Epoch 10/10\n",
            "313/313 [==============================] - 19s 61ms/step - loss: 0.1429 - accuracy: 0.9454 - val_loss: 0.3474 - val_accuracy: 0.8902\n"
          ]
        }
      ]
    },
    {
      "cell_type": "code",
      "source": [
        "#acc = history.history['accuracy']\n",
        "cnn_acc_1 = np.max(history_1.history['val_accuracy'])\n",
        "cnn_acc_10 = np.max(history_10.history['val_accuracy'])\n",
        "cnn_acc_100 = np.max(history_100.history['val_accuracy'])\n",
        "cnn_acc_1000 = np.max(history_1000.history['val_accuracy'])\n",
        "cnn_acc_10000 = np.max(history_10000.history['val_accuracy'])\n",
        "\n",
        "\n",
        "x = [1,10,100,1000,10000]\n",
        "y = [cnn_acc_1,cnn_acc_10,cnn_acc_100,cnn_acc_1000,cnn_acc_10000]\n",
        "  \n",
        "# plot line\n",
        "plt.plot(x, y)\n",
        "plt.title(\"Training ConvNet with different number of images\")\n",
        "plt.xlabel(\"Training data size (# of images)\")\n",
        "plt.ylabel(\"Test Accuracy\")\n",
        "plt.show()"
      ],
      "metadata": {
        "colab": {
          "base_uri": "https://localhost:8080/",
          "height": 295
        },
        "id": "YS8C91ekAZqU",
        "outputId": "78d83a5a-8ca2-4f9f-9937-602ae8e469d4"
      },
      "execution_count": null,
      "outputs": [
        {
          "output_type": "display_data",
          "data": {
            "text/plain": [
              "<Figure size 432x288 with 1 Axes>"
            ],
            "image/png": "[encoded data removed]"
          },
          "metadata": {
            "needs_background": "light"
          }
        }
      ]
    }
  ]
}